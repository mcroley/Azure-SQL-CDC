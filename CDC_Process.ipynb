{
    "cells": [
        {
            "cell_type": "markdown",
            "metadata": {
                "azdata_cell_guid": "882c4856-41ff-4345-a49a-8cffa6c0ff45"
            },
            "source": [
                "# `CDC Process`"
            ]
        },
        {
            "cell_type": "markdown",
            "metadata": {
                "azdata_cell_guid": "d463b2e5-0219-4677-9715-25f3f89c2708"
            },
            "source": [
                "## Enable CDC on the Entire Database"
            ]
        },
        {
            "cell_type": "code",
            "execution_count": null,
            "metadata": {
                "azdata_cell_guid": "05f88f1b-d0ff-4fa9-8a9b-6dd5e4d69b6b"
            },
            "outputs": [],
            "source": [
                "EXEC sys.sp_cdc_enable_db"
            ]
        },
        {
            "cell_type": "markdown",
            "metadata": {
                "azdata_cell_guid": "2c0c11e0-1813-4093-a2a9-e44104b32242"
            },
            "source": [
                "## Each table needs to be updated or added to system CDC database"
            ]
        },
        {
            "cell_type": "code",
            "execution_count": null,
            "metadata": {
                "azdata_cell_guid": "47f0b9ed-14ef-4720-8bd9-e22995b7b3b2"
            },
            "outputs": [],
            "source": [
                "EXEC sys.sp_cdc_enable_table  -- enable CDC for a table. The Language table in this case\n",
                "@source_schema = N'dbo', \n",
                "@source_name   = N'Language', \n",
                "@role_name     = NULL"
            ]
        },
        {
            "cell_type": "markdown",
            "metadata": {
                "azdata_cell_guid": "81d9b5d2-aba1-42a2-946c-4a836e6d6475"
            },
            "source": [
                "## Shows which databases have CDC enabled\n",
                "\n",
                "- If CDC is enabled on the database. 1 = yes"
            ]
        },
        {
            "cell_type": "code",
            "execution_count": null,
            "metadata": {
                "azdata_cell_guid": "3d832dc8-d7aa-43ba-86b0-01c2b261bba5"
            },
            "outputs": [],
            "source": [
                "SELECT [name], database_id, is_cdc_enabled  \n",
                "FROM sys.databases"
            ]
        },
        {
            "cell_type": "markdown",
            "metadata": {
                "azdata_cell_guid": "45dabdb2-f81f-4efd-9ed4-ad9e1814ef9d"
            },
            "source": [
                "## Shows the tables enabled for CDC - 1 indicates a CDC table"
            ]
        },
        {
            "cell_type": "code",
            "execution_count": null,
            "metadata": {
                "azdata_cell_guid": "7d345c96-ce48-435e-8513-95618487dd24",
                "tags": []
            },
            "outputs": [],
            "source": [
                "SELECT [name], is_tracked_by_cdc   -- lists the tables which are enabled by CDC\n",
                "FROM sys.tables \n",
                "order by name"
            ]
        },
        {
            "cell_type": "markdown",
            "metadata": {
                "azdata_cell_guid": "0b7df60c-1fbd-4547-8db7-2137caf17cf1"
            },
            "source": [
                "## Scan of all the CDC Changes"
            ]
        },
        {
            "cell_type": "code",
            "execution_count": null,
            "metadata": {
                "azdata_cell_guid": "a41b0eb1-a043-4059-9f96-0a15b767f81d"
            },
            "outputs": [],
            "source": [
                "SELECT * from sys.dm_cdc_log_scan_sessions where empty_scan_count <> 0 \n"
            ]
        },
        {
            "cell_type": "markdown",
            "metadata": {
                "azdata_cell_guid": "af3432f7-8098-4b40-8689-d756c1d10162"
            },
            "source": [
                "## Show all of the Changes for a CDC Enabled Table\n",
                "\n",
                "- This is the SQL the Boomi operation will need to run for each table"
            ]
        },
        {
            "cell_type": "code",
            "execution_count": null,
            "metadata": {
                "azdata_cell_guid": "f353b052-9a13-445c-bee6-f1c349ec1500"
            },
            "outputs": [],
            "source": [
                "SELECT   -- shows the changes for a CDC table, in this case the Area table      \n",
                "      [__$start_lsn],\n",
                "      [__$operation]      \n",
                "      ,[AreaNo]\n",
                "      ,[PlantNo]\n",
                "      ,[AreaName]     \n",
                "  FROM [cdc].[dbo_Area_CT] \n",
                "-- from this result, the following is checked on the _$operation column of the returned data set\n",
                "-- =========\n",
                "-- 1 = delete\n",
                "-- 2 = insert\n",
                "-- 3 = update (captured column values are those before the update operation). \n",
                "-- 4 = update (captured column values are those after the update operation)\n",
                "-- For example:\n",
                "--  __$operation\t    AreaNo\tPlantNo\tAreaName\n",
                "--  3\t                218\t    40\t    test area\n",
                "--  4\t                218\t    40\t    test areas\n",
                "-- ========="
            ]
        },
        {
            "cell_type": "markdown",
            "metadata": {
                "azdata_cell_guid": "9dc9a059-dfa4-475f-b1c7-d8f1076622ad"
            },
            "source": [
                "## Show the current retention policy of the CDC database"
            ]
        },
        {
            "cell_type": "code",
            "execution_count": null,
            "metadata": {
                "azdata_cell_guid": "f67115ef-1d78-4882-b4e4-8d764267a227"
            },
            "outputs": [],
            "source": [
                "select * from cdc.cdc_jobs"
            ]
        },
        {
            "cell_type": "markdown",
            "metadata": {
                "azdata_cell_guid": "c4f27091-0368-40b1-a09a-f69f64fd8281"
            },
            "source": [
                "## Changes the retention time, in minutes, of the CDC database"
            ]
        },
        {
            "cell_type": "code",
            "execution_count": null,
            "metadata": {
                "azdata_cell_guid": "70ff6478-1279-4d48-94d9-82e8c46bfae5",
                "tags": []
            },
            "outputs": [],
            "source": [
                "EXECUTE sys.sp_cdc_change_job\n",
                "   @job_type = N'cleanup',\n",
                "   @retention = 14400 -- the retention time in minutes\n",
                "   "
            ]
        },
        {
            "cell_type": "markdown",
            "metadata": {
                "azdata_cell_guid": "9c43d535-e269-48e0-a967-50d2501870ed"
            },
            "source": [
                "## Get the TIme From LSN\n",
                "the \\_$start\\_lsn column is in a binary data format and is the time the change was made and recorded in the CDC table. This will convert the binary data to an epoch time"
            ]
        },
        {
            "cell_type": "code",
            "execution_count": null,
            "metadata": {
                "azdata_cell_guid": "6a2535d9-b9bb-4fbe-b2bf-ebddfc8b05d6",
                "tags": []
            },
            "outputs": [],
            "source": [
                "-- get the time from the LSN\n",
                "SELECT sys.fn_cdc_map_lsn_to_time(0x00000A1E000042400007)  "
            ]
        },
        {
            "attachments": {},
            "cell_type": "markdown",
            "metadata": {
                "azdata_cell_guid": "5ad04147-267c-403c-be0a-a75ab431b43e"
            },
            "source": [
                "## Create View for CDC table which refactors the lsn time into a datatime format"
            ]
        },
        {
            "cell_type": "code",
            "execution_count": null,
            "metadata": {
                "azdata_cell_guid": "397f17b2-0293-4e95-92c8-d49aaa3b8c09",
                "tags": []
            },
            "outputs": [],
            "source": [
                "create view [cdc].[dba_Language_CT_View] as SELECT \n",
                "sys.fn_cdc_map_lsn_to_time(__$start_lsn) AS 'rec_ts', * from [cdc].[dbo_Area_CT];"
            ]
        },
        {
            "attachments": {},
            "cell_type": "markdown",
            "metadata": {
                "azdata_cell_guid": "58dcd1a4-9b16-48e3-a3ed-7b44340e2cb5"
            },
            "source": [
                "## Remove CDC Process from Database"
            ]
        },
        {
            "cell_type": "code",
            "execution_count": null,
            "metadata": {
                "azdata_cell_guid": "115e2e3a-094b-45e4-b9a4-925950c7bd13"
            },
            "outputs": [],
            "source": [
                "EXEC sys.sp_cdc_disable_db  \n",
                "GO  "
            ]
        },
        {
            "attachments": {},
            "cell_type": "markdown",
            "metadata": {
                "azdata_cell_guid": "6e1a8204-aa7b-4b44-bb25-373744c91ebb"
            },
            "source": [
                "## Create an Information View Table for Detailed CDC information"
            ]
        },
        {
            "cell_type": "code",
            "execution_count": null,
            "metadata": {
                "azdata_cell_guid": "70c6a16a-db43-4f07-bc80-97c36199de9c"
            },
            "outputs": [],
            "source": [
                "Create view cdc.Table_Primary_Key_View as select \n",
                "lower(b.name) source_table_name,\n",
                "c.table_catalog source_database,\n",
                "lower(e.column_name) primary_key,\n",
                "lower(c.table_catalog + '_cdc_'+ a.capture_instance + '_ct_view') cdc_view_name\n",
                "from cdc.change_tables a\n",
                "inner join sys.all_objects b on a.source_object_id = b.object_id\n",
                "inner join information_schema.tables c on c.table_name = b.name\n",
                "inner join information_schema.TABLE_CONSTRAINTS d on d.table_name = b.name \n",
                "and d.table_schema = c.table_schema\n",
                "inner join information_schema.CONSTRAINT_COLUMN_USAGE e \n",
                "on e.CONSTRAINT_NAME = d.CONSTRAINT_NAME and d.CONSTRAINT_TYPE = 'PRIMARY KEY'; "
            ]
        }
    ],
    "metadata": {
        "kernelspec": {
            "display_name": "SQL",
            "language": "sql",
            "name": "SQL"
        },
        "language_info": {
            "name": "sql",
            "version": ""
        }
    },
    "nbformat": 4,
    "nbformat_minor": 2
}
