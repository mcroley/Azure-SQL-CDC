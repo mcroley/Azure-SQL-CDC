{
    "metadata": {
        "kernelspec": {
            "name": "SQL",
            "display_name": "SQL",
            "language": "sql"
        },
        "language_info": {
            "name": "sql",
            "version": ""
        }
    },
    "nbformat_minor": 2,
    "nbformat": 4,
    "cells": [
        {
            "cell_type": "markdown",
            "source": [
                "# `CDC Process`"
            ],
            "metadata": {
                "azdata_cell_guid": "882c4856-41ff-4345-a49a-8cffa6c0ff45"
            }
        },
        {
            "cell_type": "markdown",
            "source": [
                "## Enable CDC on the Entire Database"
            ],
            "metadata": {
                "azdata_cell_guid": "d463b2e5-0219-4677-9715-25f3f89c2708"
            }
        },
        {
            "cell_type": "code",
            "source": [
                "EXEC sys.sp_cdc_enable_db"
            ],
            "metadata": {
                "azdata_cell_guid": "05f88f1b-d0ff-4fa9-8a9b-6dd5e4d69b6b"
            },
            "outputs": [
                {
                    "output_type": "display_data",
                    "data": {
                        "text/html": "Commands completed successfully."
                    },
                    "metadata": {}
                },
                {
                    "output_type": "display_data",
                    "data": {
                        "text/html": "Total execution time: 00:00:00.827"
                    },
                    "metadata": {}
                }
            ],
            "execution_count": 3
        },
        {
            "cell_type": "markdown",
            "source": [
                "## Each table needs to be updated or added to system CDC database"
            ],
            "metadata": {
                "azdata_cell_guid": "2c0c11e0-1813-4093-a2a9-e44104b32242"
            }
        },
        {
            "cell_type": "code",
            "source": [
                "EXEC sys.sp_cdc_enable_table  -- enable CDC for a table. The Area table in this case\n",
                "@source_schema = N'dbo', \n",
                "@source_name   = N'Language', \n",
                "@role_name     = NULL"
            ],
            "metadata": {
                "azdata_cell_guid": "47f0b9ed-14ef-4720-8bd9-e22995b7b3b2"
            },
            "outputs": [
                {
                    "output_type": "display_data",
                    "data": {
                        "text/html": "Commands completed successfully."
                    },
                    "metadata": {}
                },
                {
                    "output_type": "display_data",
                    "data": {
                        "text/html": "Total execution time: 00:00:01.053"
                    },
                    "metadata": {}
                }
            ],
            "execution_count": 1
        },
        {
            "cell_type": "markdown",
            "source": [
                "## Shows which databases have CDC enabled\n",
                "\n",
                "- If CDC is enabled on the database. 1 = yes"
            ],
            "metadata": {
                "azdata_cell_guid": "81d9b5d2-aba1-42a2-946c-4a836e6d6475"
            }
        },
        {
            "cell_type": "code",
            "source": [
                "SELECT [name], database_id, is_cdc_enabled  \n",
                "FROM sys.databases"
            ],
            "metadata": {
                "azdata_cell_guid": "3d832dc8-d7aa-43ba-86b0-01c2b261bba5"
            },
            "outputs": [
                {
                    "output_type": "display_data",
                    "data": {
                        "text/html": "(2 rows affected)"
                    },
                    "metadata": {}
                },
                {
                    "output_type": "display_data",
                    "data": {
                        "text/html": "Total execution time: 00:00:00.345"
                    },
                    "metadata": {}
                },
                {
                    "output_type": "execute_result",
                    "execution_count": 1,
                    "data": {
                        "application/vnd.dataresource+json": {
                            "schema": {
                                "fields": [
                                    {
                                        "name": "name"
                                    },
                                    {
                                        "name": "database_id"
                                    },
                                    {
                                        "name": "is_cdc_enabled"
                                    }
                                ]
                            },
                            "data": [
                                {
                                    "0": "master",
                                    "1": "1",
                                    "2": "0"
                                },
                                {
                                    "0": "flowstar_cdc_test",
                                    "1": "6",
                                    "2": "1"
                                }
                            ]
                        },
                        "text/html": "<table><tr><th>name</th><th>database_id</th><th>is_cdc_enabled</th></tr><tr><td>master</td><td>1</td><td>0</td></tr><tr><td>flowstar_cdc_test</td><td>6</td><td>1</td></tr></table>"
                    },
                    "metadata": {}
                }
            ],
            "execution_count": 1
        },
        {
            "cell_type": "markdown",
            "source": [
                "## Shows the tables enabled for CDC"
            ],
            "metadata": {
                "azdata_cell_guid": "45dabdb2-f81f-4efd-9ed4-ad9e1814ef9d"
            }
        },
        {
            "cell_type": "code",
            "source": [
                "SELECT [name], is_tracked_by_cdc   -- lists the tables which are enabled by CDC\n",
                "FROM sys.tables \n",
                "order by name"
            ],
            "metadata": {
                "azdata_cell_guid": "7d345c96-ce48-435e-8513-95618487dd24",
                "tags": []
            },
            "outputs": [
                {
                    "output_type": "display_data",
                    "data": {
                        "text/html": "(470 rows affected)"
                    },
                    "metadata": {}
                },
                {
                    "output_type": "display_data",
                    "data": {
                        "text/html": "Total execution time: 00:00:02.692"
                    },
                    "metadata": {}
                },
                {
                    "output_type": "execute_result",
                    "execution_count": 5,
                    "data": {
                        "application/vnd.dataresource+json": {
                            "schema": {
                                "fields": [
                                    {
                                        "name": "name"
                                    },
                                    {
                                        "name": "is_tracked_by_cdc"
                                    }
                                ]
                            },
                            "data": [
                                {
                                    "0": "ActiveFilter",
                                    "1": "0"
                                },
                                {
                                    "0": "Actuator",
                                    "1": "0"
                                },
                                {
                                    "0": "ActuatorImport",
                                    "1": "0"
                                },
                                {
                                    "0": "Announcement",
                                    "1": "0"
                                },
                                {
                                    "0": "AnnouncementSet",
                                    "1": "0"
                                },
                                {
                                    "0": "APICode",
                                    "1": "0"
                                },
                                {
                                    "0": "Area",
                                    "1": "0"
                                },
                                {
                                    "0": "BadActorDefinition",
                                    "1": "0"
                                },
                                {
                                    "0": "BulkData",
                                    "1": "0"
                                },
                                {
                                    "0": "captured_columns",
                                    "1": "0"
                                },
                                {
                                    "0": "CascadingDropDown",
                                    "1": "0"
                                },
                                {
                                    "0": "cdc_jobs",
                                    "1": "0"
                                },
                                {
                                    "0": "CDPM_CUSTOMER",
                                    "1": "0"
                                },
                                {
                                    "0": "CDPM_LOCATION",
                                    "1": "0"
                                },
                                {
                                    "0": "CDPM_PARAM",
                                    "1": "0"
                                },
                                {
                                    "0": "CDPM_REPORT",
                                    "1": "0"
                                },
                                {
                                    "0": "CDPM_REPORT_TYPE",
                                    "1": "0"
                                },
                                {
                                    "0": "CDPM_USER",
                                    "1": "0"
                                },
                                {
                                    "0": "CDPM_USER_ROLE",
                                    "1": "0"
                                },
                                {
                                    "0": "CDPM_USER_TYPE",
                                    "1": "0"
                                },
                                {
                                    "0": "CDPMAssociatedFile",
                                    "1": "0"
                                },
                                {
                                    "0": "CDPMReport",
                                    "1": "0"
                                },
                                {
                                    "0": "CDPMReportFile",
                                    "1": "0"
                                },
                                {
                                    "0": "change_tables",
                                    "1": "0"
                                },
                                {
                                    "0": "ConditionMonitoringDevice",
                                    "1": "0"
                                },
                                {
                                    "0": "ConditionMonitoringDeviceInstallation",
                                    "1": "0"
                                },
                                {
                                    "0": "ConditionMonitoringTicket",
                                    "1": "1"
                                },
                                {
                                    "0": "Contract",
                                    "1": "0"
                                },
                                {
                                    "0": "ControlValve",
                                    "1": "0"
                                },
                                {
                                    "0": "ControlValveHistory",
                                    "1": "0"
                                },
                                {
                                    "0": "ControlValveImport",
                                    "1": "0"
                                },
                                {
                                    "0": "ControlValveRecommendation",
                                    "1": "0"
                                },
                                {
                                    "0": "ConversionFactors",
                                    "1": "0"
                                },
                                {
                                    "0": "Country",
                                    "1": "1"
                                },
                                {
                                    "0": "CouplingDriverType",
                                    "1": "1"
                                },
                                {
                                    "0": "CouplingHistory",
                                    "1": "1"
                                },
                                {
                                    "0": "CouplingInformation",
                                    "1": "1"
                                },
                                {
                                    "0": "CouplingManufacturer",
                                    "1": "0"
                                },
                                {
                                    "0": "CouplingRecommendation",
                                    "1": "1"
                                },
                                {
                                    "0": "cp_6MthAvg",
                                    "1": "0"
                                },
                                {
                                    "0": "cp_AllPhones",
                                    "1": "0"
                                },
                                {
                                    "0": "cp_CallDetail",
                                    "1": "0"
                                },
                                {
                                    "0": "cp_Changes",
                                    "1": "0"
                                },
                                {
                                    "0": "cp_Employees",
                                    "1": "0"
                                },
                                {
                                    "0": "cp_gems",
                                    "1": "0"
                                },
                                {
                                    "0": "cp_gemsSeals",
                                    "1": "0"
                                },
                                {
                                    "0": "cp_HoldReports",
                                    "1": "0"
                                },
                                {
                                    "0": "cp_NotesEmps",
                                    "1": "0"
                                },
                                {
                                    "0": "cp_Supervisors",
                                    "1": "0"
                                },
                                {
                                    "0": "cp_UserReports",
                                    "1": "0"
                                },
                                {
                                    "0": "cv_DropDown",
                                    "1": "0"
                                },
                                {
                                    "0": "cv_DropDown_FieldInfo",
                                    "1": "0"
                                },
                                {
                                    "0": "cv_EQAccessory",
                                    "1": "0"
                                },
                                {
                                    "0": "cv_EQActuator",
                                    "1": "0"
                                },
                                {
                                    "0": "cv_EQBody1",
                                    "1": "0"
                                },
                                {
                                    "0": "cv_EQBody2",
                                    "1": "0"
                                },
                                {
                                    "0": "cv_EQMain",
                                    "1": "0"
                                },
                                {
                                    "0": "cv_EQProcess",
                                    "1": "0"
                                },
                                {
                                    "0": "cv_File",
                                    "1": "0"
                                },
                                {
                                    "0": "cv_FlowserveBrand",
                                    "1": "0"
                                },
                                {
                                    "0": "cv_ImportEQAccessory",
                                    "1": "0"
                                },
                                {
                                    "0": "cv_ImportEQActuator",
                                    "1": "0"
                                },
                                {
                                    "0": "cv_ImportEQBody1",
                                    "1": "0"
                                },
                                {
                                    "0": "cv_ImportEQBody2",
                                    "1": "0"
                                },
                                {
                                    "0": "cv_ImportEQMain",
                                    "1": "0"
                                },
                                {
                                    "0": "cv_ImportEQProcess",
                                    "1": "0"
                                },
                                {
                                    "0": "cv_InformationPhotos",
                                    "1": "0"
                                },
                                {
                                    "0": "cv_ListField",
                                    "1": "0"
                                },
                                {
                                    "0": "cv_REAsFound",
                                    "1": "0"
                                },
                                {
                                    "0": "cv_REAsFoundPhotos",
                                    "1": "0"
                                },
                                {
                                    "0": "cv_ReCoefficients",
                                    "1": "0"
                                },
                                {
                                    "0": "cv_RECritDimen",
                                    "1": "0"
                                },
                                {
                                    "0": "cv_REDiagnostics",
                                    "1": "0"
                                },
                                {
                                    "0": "cv_REMain",
                                    "1": "0"
                                },
                                {
                                    "0": "cv_RepairLocations",
                                    "1": "0"
                                },
                                {
                                    "0": "cv_RepairValues",
                                    "1": "0"
                                },
                                {
                                    "0": "cv_REParts",
                                    "1": "0"
                                },
                                {
                                    "0": "cv_REPartsLabor",
                                    "1": "0"
                                },
                                {
                                    "0": "cv_REPricing",
                                    "1": "0"
                                },
                                {
                                    "0": "cv_RESpecAccessory",
                                    "1": "0"
                                },
                                {
                                    "0": "cv_RESpecActuator",
                                    "1": "0"
                                },
                                {
                                    "0": "cv_RESpecBody1",
                                    "1": "0"
                                },
                                {
                                    "0": "cv_RESpecBody2",
                                    "1": "0"
                                },
                                {
                                    "0": "cv_RESpecMain",
                                    "1": "0"
                                },
                                {
                                    "0": "cv_RESpecPhotos",
                                    "1": "0"
                                },
                                {
                                    "0": "cv_RESpecProcess",
                                    "1": "0"
                                },
                                {
                                    "0": "cv_RETestReport",
                                    "1": "0"
                                },
                                {
                                    "0": "cv_Revision",
                                    "1": "0"
                                },
                                {
                                    "0": "cv_REWorkDone",
                                    "1": "0"
                                },
                                {
                                    "0": "cv_UserFilter",
                                    "1": "0"
                                },
                                {
                                    "0": "cv_UserFilterOptionList",
                                    "1": "0"
                                },
                                {
                                    "0": "cv_UserFilterOptions",
                                    "1": "0"
                                },
                                {
                                    "0": "cv_UserFilterUnits",
                                    "1": "0"
                                },
                                {
                                    "0": "cv_ValveFilter",
                                    "1": "0"
                                },
                                {
                                    "0": "cv_ValveType",
                                    "1": "0"
                                },
                                {
                                    "0": "dbo_ConditionMonitoringTicket_CT",
                                    "1": "0"
                                },
                                {
                                    "0": "dbo_Country_CT",
                                    "1": "0"
                                },
                                {
                                    "0": "dbo_CouplingDriverType_CT",
                                    "1": "0"
                                },
                                {
                                    "0": "dbo_CouplingHistory_CT",
                                    "1": "0"
                                },
                                {
                                    "0": "dbo_CouplingInformation_CT",
                                    "1": "0"
                                },
                                {
                                    "0": "dbo_CouplingRecommendation_CT",
                                    "1": "0"
                                },
                                {
                                    "0": "dbo_Division_CT",
                                    "1": "0"
                                },
                                {
                                    "0": "dbo_Drawings_CT",
                                    "1": "0"
                                },
                                {
                                    "0": "dbo_DropDownDivisionMap_CT",
                                    "1": "0"
                                },
                                {
                                    "0": "dbo_EquipmentInformation_CT",
                                    "1": "0"
                                },
                                {
                                    "0": "dbo_EquipType_CT",
                                    "1": "0"
                                },
                                {
                                    "0": "dbo_FailureAnalysis_CT",
                                    "1": "0"
                                },
                                {
                                    "0": "dbo_FailureBellows_CT",
                                    "1": "0"
                                },
                                {
                                    "0": "dbo_FailureHardware_CT",
                                    "1": "0"
                                },
                                {
                                    "0": "dbo_FailureHistory_CT",
                                    "1": "0"
                                },
                                {
                                    "0": "dbo_FailureHistoryConsumed_CT",
                                    "1": "0"
                                },
                                {
                                    "0": "dbo_FailureHistorySealChamber_CT",
                                    "1": "0"
                                },
                                {
                                    "0": "dbo_FailureMode_CT",
                                    "1": "0"
                                },
                                {
                                    "0": "dbo_FailureORings_CT",
                                    "1": "0"
                                },
                                {
                                    "0": "dbo_FailureReason_CT",
                                    "1": "0"
                                },
                                {
                                    "0": "dbo_FailureRotatingFace_CT",
                                    "1": "0"
                                },
                                {
                                    "0": "dbo_FailureStationaryFace_CT",
                                    "1": "0"
                                },
                                {
                                    "0": "dbo_FailureSystem_CT",
                                    "1": "0"
                                },
                                {
                                    "0": "dbo_Field_CT",
                                    "1": "0"
                                },
                                {
                                    "0": "dbo_FieldType_CT",
                                    "1": "0"
                                },
                                {
                                    "0": "dbo_FlowstarFile_CT",
                                    "1": "0"
                                },
                                {
                                    "0": "dbo_Fluid_CT",
                                    "1": "0"
                                },
                                {
                                    "0": "dbo_Industry_CT",
                                    "1": "0"
                                },
                                {
                                    "0": "dbo_p_BearingFrame_CT",
                                    "1": "0"
                                },
                                {
                                    "0": "dbo_p_CustomerNumber_CT",
                                    "1": "0"
                                },
                                {
                                    "0": "dbo_p_DriverHistory_CT",
                                    "1": "0"
                                },
                                {
                                    "0": "dbo_p_DriverInformation_CT",
                                    "1": "0"
                                },
                                {
                                    "0": "dbo_p_DriverRecommendation_CT",
                                    "1": "0"
                                },
                                {
                                    "0": "dbo_p_DropDown_CT",
                                    "1": "0"
                                },
                                {
                                    "0": "dbo_p_DropDownList_CT",
                                    "1": "0"
                                },
                                {
                                    "0": "dbo_p_EnergyManagement_CT",
                                    "1": "0"
                                },
                                {
                                    "0": "dbo_p_EquipmentFilter_CT",
                                    "1": "0"
                                },
                                {
                                    "0": "dbo_p_EquipmentHistory_CT",
                                    "1": "0"
                                },
                                {
                                    "0": "dbo_p_EquipmentParts_CT",
                                    "1": "0"
                                },
                                {
                                    "0": "dbo_p_EquipmentRecommendation_CT",
                                    "1": "0"
                                },
                                {
                                    "0": "dbo_p_EquipmentRecParts_CT",
                                    "1": "0"
                                },
                                {
                                    "0": "dbo_p_MechanicalConfiguration_CT",
                                    "1": "0"
                                },
                                {
                                    "0": "dbo_p_PlantEngineers_CT",
                                    "1": "0"
                                },
                                {
                                    "0": "dbo_p_SealHistory_CT",
                                    "1": "0"
                                },
                                {
                                    "0": "dbo_p_SealHistoryParts_CT",
                                    "1": "0"
                                },
                                {
                                    "0": "dbo_Photo_CT",
                                    "1": "0"
                                },
                                {
                                    "0": "dbo_Plant_CT",
                                    "1": "0"
                                },
                                {
                                    "0": "dbo_ProcessInformation_CT",
                                    "1": "0"
                                },
                                {
                                    "0": "dbo_ProductStructure_CT",
                                    "1": "0"
                                },
                                {
                                    "0": "dbo_PumpConfiguration_CT",
                                    "1": "0"
                                },
                                {
                                    "0": "dbo_PumpDetail_CT",
                                    "1": "0"
                                },
                                {
                                    "0": "dbo_PumpHeritage_CT",
                                    "1": "0"
                                },
                                {
                                    "0": "dbo_PumpManufacturer_CT",
                                    "1": "0"
                                },
                                {
                                    "0": "dbo_PumpRecommendation_CT",
                                    "1": "0"
                                },
                                {
                                    "0": "dbo_PumpRecommendationActionsRec_CT",
                                    "1": "0"
                                },
                                {
                                    "0": "dbo_PumpRecommendationLink_CT",
                                    "1": "0"
                                },
                                {
                                    "0": "dbo_PumpRecommendationMaintenanceCost_CT",
                                    "1": "0"
                                },
                                {
                                    "0": "dbo_PumpRecommendationParts_CT",
                                    "1": "0"
                                },
                                {
                                    "0": "dbo_PumpRecommendationReasonsForRec_CT",
                                    "1": "0"
                                },
                                {
                                    "0": "dbo_PumpRecommendationROI_CT",
                                    "1": "0"
                                },
                                {
                                    "0": "dbo_PumpRecommendationROIAssociated_CT",
                                    "1": "0"
                                },
                                {
                                    "0": "dbo_Region_CT",
                                    "1": "0"
                                },
                                {
                                    "0": "dbo_SealConfig_CT",
                                    "1": "0"
                                },
                                {
                                    "0": "dbo_SealHistory_CT",
                                    "1": "0"
                                },
                                {
                                    "0": "dbo_SealInformation_CT",
                                    "1": "0"
                                },
                                {
                                    "0": "dbo_SealManufacturer_CT",
                                    "1": "0"
                                },
                                {
                                    "0": "dbo_SealRecommendation_CT",
                                    "1": "0"
                                },
                                {
                                    "0": "dbo_SISGroup_CT",
                                    "1": "0"
                                },
                                {
                                    "0": "dbo_SISGroupAccess_CT",
                                    "1": "0"
                                },
                                {
                                    "0": "dbo_SISUser_CT",
                                    "1": "0"
                                },
                                {
                                    "0": "dbo_SISUserGroup_CT",
                                    "1": "0"
                                },
                                {
                                    "0": "dbo_StandardMaterial_CT",
                                    "1": "0"
                                },
                                {
                                    "0": "dbo_State_CT",
                                    "1": "0"
                                },
                                {
                                    "0": "dbo_Unit_CT",
                                    "1": "0"
                                },
                                {
                                    "0": "dbo_UnitOfMeasure_CT",
                                    "1": "0"
                                },
                                {
                                    "0": "dbo_UserFieldData_CT",
                                    "1": "0"
                                },
                                {
                                    "0": "dbo_UserUnits_CT",
                                    "1": "0"
                                },
                                {
                                    "0": "ddl_history",
                                    "1": "0"
                                },
                                {
                                    "0": "de_BleedValve",
                                    "1": "0"
                                },
                                {
                                    "0": "de_Comment",
                                    "1": "0"
                                },
                                {
                                    "0": "de_ControlPanel",
                                    "1": "0"
                                },
                                {
                                    "0": "de_Crosshead",
                                    "1": "0"
                                },
                                {
                                    "0": "de_CuttingTool",
                                    "1": "0"
                                },
                                {
                                    "0": "de_DatasheetFieldInformation",
                                    "1": "0"
                                },
                                {
                                    "0": "de_DatasheetFieldType",
                                    "1": "0"
                                },
                                {
                                    "0": "de_DecokingHose",
                                    "1": "0"
                                },
                                {
                                    "0": "de_DecokingValve",
                                    "1": "0"
                                },
                                {
                                    "0": "de_DrillStem",
                                    "1": "0"
                                },
                                {
                                    "0": "de_DropDown",
                                    "1": "0"
                                },
                                {
                                    "0": "de_DropDownList",
                                    "1": "0"
                                },
                                {
                                    "0": "de_Drum",
                                    "1": "0"
                                },
                                {
                                    "0": "de_DrumUnit",
                                    "1": "0"
                                },
                                {
                                    "0": "de_EquipmentFilter",
                                    "1": "0"
                                },
                                {
                                    "0": "de_EquipmentHistory",
                                    "1": "0"
                                },
                                {
                                    "0": "de_EquipmentType",
                                    "1": "0"
                                },
                                {
                                    "0": "de_Field",
                                    "1": "0"
                                },
                                {
                                    "0": "de_FieldCategory",
                                    "1": "0"
                                },
                                {
                                    "0": "de_FieldDropDownMap",
                                    "1": "0"
                                },
                                {
                                    "0": "de_FieldType",
                                    "1": "0"
                                },
                                {
                                    "0": "de_Filter",
                                    "1": "0"
                                },
                                {
                                    "0": "de_FilterFieldCriteria",
                                    "1": "0"
                                },
                                {
                                    "0": "de_FilterLocationCriteria",
                                    "1": "0"
                                },
                                {
                                    "0": "de_FunctionalLocation",
                                    "1": "0"
                                },
                                {
                                    "0": "de_GuidePlate",
                                    "1": "0"
                                },
                                {
                                    "0": "de_Hoist",
                                    "1": "0"
                                },
                                {
                                    "0": "de_InspectionReport",
                                    "1": "0"
                                },
                                {
                                    "0": "de_Inventory",
                                    "1": "0"
                                },
                                {
                                    "0": "de_IsolationValve",
                                    "1": "0"
                                },
                                {
                                    "0": "de_MTBF",
                                    "1": "0"
                                },
                                {
                                    "0": "de_OriginalSpec",
                                    "1": "0"
                                },
                                {
                                    "0": "de_PulleyBlockSystem",
                                    "1": "0"
                                },
                                {
                                    "0": "de_Pump",
                                    "1": "0"
                                },
                                {
                                    "0": "de_Recommendation",
                                    "1": "0"
                                },
                                {
                                    "0": "de_Repair",
                                    "1": "0"
                                },
                                {
                                    "0": "de_RepairCause",
                                    "1": "0"
                                },
                                {
                                    "0": "de_RepairMode",
                                    "1": "0"
                                },
                                {
                                    "0": "de_RepairReason",
                                    "1": "0"
                                },
                                {
                                    "0": "de_RotaryJoint",
                                    "1": "0"
                                },
                                {
                                    "0": "de_StatusHistory",
                                    "1": "0"
                                },
                                {
                                    "0": "de_SurveyDocument",
                                    "1": "0"
                                },
                                {
                                    "0": "de_Upgrade",
                                    "1": "0"
                                },
                                {
                                    "0": "de_UpgradeList",
                                    "1": "0"
                                },
                                {
                                    "0": "DeletedEquipment",
                                    "1": "0"
                                },
                                {
                                    "0": "DeletedFailureHistory",
                                    "1": "0"
                                },
                                {
                                    "0": "DeletedPumpRecommendation",
                                    "1": "0"
                                },
                                {
                                    "0": "Division",
                                    "1": "1"
                                },
                                {
                                    "0": "Drawings",
                                    "1": "1"
                                },
                                {
                                    "0": "DropDownDivisionMap",
                                    "1": "1"
                                },
                                {
                                    "0": "EquipmentFilter",
                                    "1": "0"
                                },
                                {
                                    "0": "EquipmentImport",
                                    "1": "0"
                                },
                                {
                                    "0": "EquipmentInformation",
                                    "1": "1"
                                },
                                {
                                    "0": "EquipType",
                                    "1": "1"
                                },
                                {
                                    "0": "FailureAnalysis",
                                    "1": "1"
                                },
                                {
                                    "0": "FailureBellows",
                                    "1": "1"
                                },
                                {
                                    "0": "FailureCause",
                                    "1": "0"
                                },
                                {
                                    "0": "FailureHardware",
                                    "1": "1"
                                },
                                {
                                    "0": "FailureHistory",
                                    "1": "1"
                                },
                                {
                                    "0": "FailureHistoryConsumed",
                                    "1": "1"
                                },
                                {
                                    "0": "FailureHistorySealChamber",
                                    "1": "1"
                                },
                                {
                                    "0": "FailureMode",
                                    "1": "1"
                                },
                                {
                                    "0": "FailureORings",
                                    "1": "1"
                                },
                                {
                                    "0": "FailureReason",
                                    "1": "1"
                                },
                                {
                                    "0": "FailureRotatingFace",
                                    "1": "1"
                                },
                                {
                                    "0": "FailureStationaryFace",
                                    "1": "1"
                                },
                                {
                                    "0": "FailureSystem",
                                    "1": "1"
                                },
                                {
                                    "0": "Field",
                                    "1": "1"
                                },
                                {
                                    "0": "FieldType",
                                    "1": "1"
                                },
                                {
                                    "0": "FlowstarFile",
                                    "1": "1"
                                },
                                {
                                    "0": "FlowstarFile_Backup",
                                    "1": "0"
                                },
                                {
                                    "0": "FlowstarFile_backup_09102018",
                                    "1": "0"
                                },
                                {
                                    "0": "Fluid",
                                    "1": "1"
                                },
                                {
                                    "0": "gb_Performance",
                                    "1": "0"
                                },
                                {
                                    "0": "gb_TimeTracking",
                                    "1": "0"
                                },
                                {
                                    "0": "Globals",
                                    "1": "0"
                                },
                                {
                                    "0": "HistoryImport",
                                    "1": "0"
                                },
                                {
                                    "0": "'Import Info$'",
                                    "1": "0"
                                },
                                {
                                    "0": "index_columns",
                                    "1": "0"
                                },
                                {
                                    "0": "Industry",
                                    "1": "1"
                                },
                                {
                                    "0": "inv_Location",
                                    "1": "0"
                                },
                                {
                                    "0": "inv_PhysicalInvIN",
                                    "1": "0"
                                },
                                {
                                    "0": "inv_PhysicalInvOUT",
                                    "1": "0"
                                },
                                {
                                    "0": "inv_PhysicalInvOUT_completed",
                                    "1": "0"
                                },
                                {
                                    "0": "inv_PhysicalResults",
                                    "1": "0"
                                },
                                {
                                    "0": "inv_plantemail",
                                    "1": "0"
                                },
                                {
                                    "0": "inv_Usage",
                                    "1": "0"
                                },
                                {
                                    "0": "inv_UsageEmail",
                                    "1": "0"
                                },
                                {
                                    "0": "InvCost",
                                    "1": "0"
                                },
                                {
                                    "0": "InventoryCountryMap",
                                    "1": "0"
                                },
                                {
                                    "0": "InventoryPartsImport",
                                    "1": "0"
                                },
                                {
                                    "0": "InvUsage",
                                    "1": "0"
                                },
                                {
                                    "0": "Language",
                                    "1": "0"
                                },
                                {
                                    "0": "LegacyMaterial",
                                    "1": "0"
                                },
                                {
                                    "0": "Localization",
                                    "1": "0"
                                },
                                {
                                    "0": "Log",
                                    "1": "0"
                                },
                                {
                                    "0": "lsn_time_mapping",
                                    "1": "0"
                                },
                                {
                                    "0": "MAP_Plant",
                                    "1": "0"
                                },
                                {
                                    "0": "MAP_UltimateUser",
                                    "1": "0"
                                },
                                {
                                    "0": "p_AITMember",
                                    "1": "0"
                                },
                                {
                                    "0": "p_AppHistory",
                                    "1": "0"
                                },
                                {
                                    "0": "p_BaselineInput",
                                    "1": "0"
                                },
                                {
                                    "0": "p_BatchFilter",
                                    "1": "0"
                                },
                                {
                                    "0": "p_BearingFrame",
                                    "1": "1"
                                },
                                {
                                    "0": "p_CallLog",
                                    "1": "0"
                                },
                                {
                                    "0": "p_CallLogContacts",
                                    "1": "0"
                                },
                                {
                                    "0": "p_Constants",
                                    "1": "0"
                                },
                                {
                                    "0": "p_contactlist",
                                    "1": "0"
                                },
                                {
                                    "0": "p_CostSavingsDefinition",
                                    "1": "0"
                                },
                                {
                                    "0": "p_CostSavingsQuarterly",
                                    "1": "0"
                                },
                                {
                                    "0": "p_CostSavingsYearly",
                                    "1": "0"
                                },
                                {
                                    "0": "p_CustomerNumber",
                                    "1": "1"
                                },
                                {
                                    "0": "p_DatasheetFieldInformation",
                                    "1": "0"
                                },
                                {
                                    "0": "p_DatasheetFieldType",
                                    "1": "0"
                                },
                                {
                                    "0": "p_DriverHistory",
                                    "1": "1"
                                },
                                {
                                    "0": "p_DriverInformation",
                                    "1": "1"
                                },
                                {
                                    "0": "p_DriverRecommendation",
                                    "1": "1"
                                },
                                {
                                    "0": "p_DropDown",
                                    "1": "1"
                                },
                                {
                                    "0": "p_DropDownList",
                                    "1": "1"
                                },
                                {
                                    "0": "p_EnergyManagement",
                                    "1": "1"
                                },
                                {
                                    "0": "p_EquipmentFilter",
                                    "1": "1"
                                },
                                {
                                    "0": "p_EquipmentHistory",
                                    "1": "1"
                                },
                                {
                                    "0": "p_EquipmentHistoryParts",
                                    "1": "0"
                                },
                                {
                                    "0": "p_EquipmentImportA",
                                    "1": "0"
                                },
                                {
                                    "0": "p_EquipmentImportB",
                                    "1": "0"
                                },
                                {
                                    "0": "p_EquipmentParts",
                                    "1": "1"
                                },
                                {
                                    "0": "p_EquipmentRecommendation",
                                    "1": "1"
                                },
                                {
                                    "0": "p_EquipmentRecParts",
                                    "1": "1"
                                },
                                {
                                    "0": "p_FPCalculations",
                                    "1": "0"
                                },
                                {
                                    "0": "p_FPCause",
                                    "1": "0"
                                },
                                {
                                    "0": "p_FPSymptom",
                                    "1": "0"
                                },
                                {
                                    "0": "p_FPSymptomEntry",
                                    "1": "0"
                                },
                                {
                                    "0": "p_FPWeight",
                                    "1": "0"
                                },
                                {
                                    "0": "p_HistoryImport",
                                    "1": "0"
                                },
                                {
                                    "0": "p_ImportFields",
                                    "1": "0"
                                },
                                {
                                    "0": "p_InventoryBaselineInput",
                                    "1": "0"
                                },
                                {
                                    "0": "p_inventorypartscount",
                                    "1": "0"
                                },
                                {
                                    "0": "p_inventorypartscountold",
                                    "1": "0"
                                },
                                {
                                    "0": "p_InventoryQuarterly",
                                    "1": "0"
                                },
                                {
                                    "0": "p_InventorySSOverride",
                                    "1": "0"
                                },
                                {
                                    "0": "p_InventoryValue",
                                    "1": "0"
                                },
                                {
                                    "0": "p_Link",
                                    "1": "0"
                                },
                                {
                                    "0": "p_LinkValue",
                                    "1": "0"
                                },
                                {
                                    "0": "p_MechanicalConfiguration",
                                    "1": "1"
                                },
                                {
                                    "0": "p_Parts",
                                    "1": "0"
                                },
                                {
                                    "0": "p_PermissionSet",
                                    "1": "0"
                                },
                                {
                                    "0": "p_PermissionSetPermissions",
                                    "1": "0"
                                },
                                {
                                    "0": "p_PlantEngineers",
                                    "1": "1"
                                },
                                {
                                    "0": "p_PopulationAlarms",
                                    "1": "0"
                                },
                                {
                                    "0": "p_Report",
                                    "1": "0"
                                },
                                {
                                    "0": "p_ReportCriteria",
                                    "1": "0"
                                },
                                {
                                    "0": "p_ReportCriteriaMap",
                                    "1": "0"
                                },
                                {
                                    "0": "p_SealHistory",
                                    "1": "1"
                                },
                                {
                                    "0": "p_SealHistoryParts",
                                    "1": "1"
                                },
                                {
                                    "0": "p_Training",
                                    "1": "0"
                                },
                                {
                                    "0": "p_WhatsNew",
                                    "1": "0"
                                },
                                {
                                    "0": "Permission",
                                    "1": "0"
                                },
                                {
                                    "0": "Photo",
                                    "1": "1"
                                },
                                {
                                    "0": "Plant",
                                    "1": "1"
                                },
                                {
                                    "0": "PRMSInventory",
                                    "1": "0"
                                },
                                {
                                    "0": "PRMSRepairs",
                                    "1": "0"
                                },
                                {
                                    "0": "PRMSTemp",
                                    "1": "0"
                                },
                                {
                                    "0": "PRMSUsage",
                                    "1": "0"
                                },
                                {
                                    "0": "ProcessInformation",
                                    "1": "1"
                                },
                                {
                                    "0": "ProductStructure",
                                    "1": "1"
                                },
                                {
                                    "0": "PumpConfiguration",
                                    "1": "1"
                                },
                                {
                                    "0": "PumpDetail",
                                    "1": "1"
                                },
                                {
                                    "0": "PumpHeritage",
                                    "1": "1"
                                },
                                {
                                    "0": "PumpManufacturer",
                                    "1": "1"
                                },
                                {
                                    "0": "PumpRecommendation",
                                    "1": "1"
                                },
                                {
                                    "0": "PumpRecommendationActionsRec",
                                    "1": "1"
                                },
                                {
                                    "0": "PumpRecommendationLink",
                                    "1": "1"
                                },
                                {
                                    "0": "PumpRecommendationMaintenanceCost",
                                    "1": "1"
                                },
                                {
                                    "0": "PumpRecommendationParts",
                                    "1": "1"
                                },
                                {
                                    "0": "PumpRecommendationReasonsForRec",
                                    "1": "1"
                                },
                                {
                                    "0": "PumpRecommendationROI",
                                    "1": "1"
                                },
                                {
                                    "0": "PumpRecommendationROIAssociated",
                                    "1": "1"
                                },
                                {
                                    "0": "qf_CategoryFieldMap",
                                    "1": "0"
                                },
                                {
                                    "0": "qf_CategoryMap",
                                    "1": "0"
                                },
                                {
                                    "0": "qf_DropDownMap",
                                    "1": "0"
                                },
                                {
                                    "0": "qf_Field",
                                    "1": "0"
                                },
                                {
                                    "0": "qf_FieldCriteria",
                                    "1": "0"
                                },
                                {
                                    "0": "qf_FieldType",
                                    "1": "0"
                                },
                                {
                                    "0": "qf_FilterType",
                                    "1": "0"
                                },
                                {
                                    "0": "qf_GeneralFieldMap",
                                    "1": "0"
                                },
                                {
                                    "0": "qf_LocationCriteria",
                                    "1": "0"
                                },
                                {
                                    "0": "qf_ReportFilterDesc",
                                    "1": "0"
                                },
                                {
                                    "0": "qf_StandardFieldCriteria",
                                    "1": "0"
                                },
                                {
                                    "0": "qf_StandardFilter",
                                    "1": "0"
                                },
                                {
                                    "0": "qf_UserDefinedFilter",
                                    "1": "0"
                                },
                                {
                                    "0": "QRCLocation",
                                    "1": "0"
                                },
                                {
                                    "0": "query_test",
                                    "1": "0"
                                },
                                {
                                    "0": "QueryFilter",
                                    "1": "0"
                                },
                                {
                                    "0": "Region",
                                    "1": "1"
                                },
                                {
                                    "0": "ReliabilityEngineer",
                                    "1": "0"
                                },
                                {
                                    "0": "ReliabilityEngineerCategory",
                                    "1": "0"
                                },
                                {
                                    "0": "ReportFilter",
                                    "1": "0"
                                },
                                {
                                    "0": "Results",
                                    "1": "0"
                                },
                                {
                                    "0": "RP08",
                                    "1": "0"
                                },
                                {
                                    "0": "RP09",
                                    "1": "0"
                                },
                                {
                                    "0": "RP14",
                                    "1": "0"
                                },
                                {
                                    "0": "RP15",
                                    "1": "0"
                                },
                                {
                                    "0": "RP19",
                                    "1": "0"
                                },
                                {
                                    "0": "RP27",
                                    "1": "0"
                                },
                                {
                                    "0": "RP32",
                                    "1": "0"
                                },
                                {
                                    "0": "RP33",
                                    "1": "0"
                                },
                                {
                                    "0": "RP98",
                                    "1": "0"
                                },
                                {
                                    "0": "SealConfig",
                                    "1": "1"
                                },
                                {
                                    "0": "SealHistory",
                                    "1": "1"
                                },
                                {
                                    "0": "SealInformation",
                                    "1": "1"
                                },
                                {
                                    "0": "SealManufacturer",
                                    "1": "1"
                                },
                                {
                                    "0": "SealRecommendation",
                                    "1": "1"
                                },
                                {
                                    "0": "SISGroup",
                                    "1": "1"
                                },
                                {
                                    "0": "SISGroupAccess",
                                    "1": "1"
                                },
                                {
                                    "0": "SISGroupPrivilege",
                                    "1": "0"
                                },
                                {
                                    "0": "SISGroupSet",
                                    "1": "0"
                                },
                                {
                                    "0": "SISLoginHistory",
                                    "1": "0"
                                },
                                {
                                    "0": "SISUser",
                                    "1": "1"
                                },
                                {
                                    "0": "SISUserGroup",
                                    "1": "1"
                                },
                                {
                                    "0": "SISUserPlantDesired",
                                    "1": "0"
                                },
                                {
                                    "0": "SISUserPrivDesired",
                                    "1": "0"
                                },
                                {
                                    "0": "SISUserPwdHistory",
                                    "1": "0"
                                },
                                {
                                    "0": "SISUserSecurity",
                                    "1": "0"
                                },
                                {
                                    "0": "sr_ApplicationFilter",
                                    "1": "0"
                                },
                                {
                                    "0": "sr_AppMain",
                                    "1": "0"
                                },
                                {
                                    "0": "sr_AppPhoto",
                                    "1": "0"
                                },
                                {
                                    "0": "sr_AppProcess",
                                    "1": "0"
                                },
                                {
                                    "0": "sr_AppRevision",
                                    "1": "0"
                                },
                                {
                                    "0": "sr_DropDownItems",
                                    "1": "0"
                                },
                                {
                                    "0": "sr_DropDownLists",
                                    "1": "0"
                                },
                                {
                                    "0": "sr_File",
                                    "1": "0"
                                },
                                {
                                    "0": "sr_Import_AppMain",
                                    "1": "0"
                                },
                                {
                                    "0": "sr_Import_AppProcess",
                                    "1": "0"
                                },
                                {
                                    "0": "sr_Import_Valve_1",
                                    "1": "0"
                                },
                                {
                                    "0": "sr_Import_Valve_2",
                                    "1": "0"
                                },
                                {
                                    "0": "sr_MatchingApplicationAndValveFields",
                                    "1": "0"
                                },
                                {
                                    "0": "sr_OptionItem",
                                    "1": "0"
                                },
                                {
                                    "0": "sr_OptionList",
                                    "1": "0"
                                },
                                {
                                    "0": "sr_REAsBuilt_Process",
                                    "1": "0"
                                },
                                {
                                    "0": "sr_REAsBuilt_Valve_1",
                                    "1": "0"
                                },
                                {
                                    "0": "sr_REAsBuilt_Valve_2",
                                    "1": "0"
                                },
                                {
                                    "0": "sr_REAsFound_A",
                                    "1": "0"
                                },
                                {
                                    "0": "sr_REAsFound_B",
                                    "1": "0"
                                },
                                {
                                    "0": "sr_REAsReceived_Process",
                                    "1": "0"
                                },
                                {
                                    "0": "sr_REAsReceived_Valve_1",
                                    "1": "0"
                                },
                                {
                                    "0": "sr_REAsReceived_Valve_2",
                                    "1": "0"
                                },
                                {
                                    "0": "sr_RECoefficient",
                                    "1": "0"
                                },
                                {
                                    "0": "sr_RECriticalDimensions",
                                    "1": "0"
                                },
                                {
                                    "0": "sr_RECriticalityValue",
                                    "1": "0"
                                },
                                {
                                    "0": "sr_REMain",
                                    "1": "0"
                                },
                                {
                                    "0": "sr_REParts",
                                    "1": "0"
                                },
                                {
                                    "0": "sr_REPartsLabor",
                                    "1": "0"
                                },
                                {
                                    "0": "sr_REPhoto",
                                    "1": "0"
                                },
                                {
                                    "0": "sr_REPreTest",
                                    "1": "0"
                                },
                                {
                                    "0": "sr_REPricing",
                                    "1": "0"
                                },
                                {
                                    "0": "sr_RERepairValue",
                                    "1": "0"
                                },
                                {
                                    "0": "sr_RESelectedCoefficientField",
                                    "1": "0"
                                },
                                {
                                    "0": "sr_RETestResults",
                                    "1": "0"
                                },
                                {
                                    "0": "sr_REVisualInspection",
                                    "1": "0"
                                },
                                {
                                    "0": "sr_REWorkDone_1",
                                    "1": "0"
                                },
                                {
                                    "0": "sr_REWorkDone_2",
                                    "1": "0"
                                },
                                {
                                    "0": "sr_Valve_1",
                                    "1": "0"
                                },
                                {
                                    "0": "sr_Valve_2",
                                    "1": "0"
                                },
                                {
                                    "0": "sr_Valve_Test",
                                    "1": "0"
                                },
                                {
                                    "0": "sr_ValveFilter",
                                    "1": "0"
                                },
                                {
                                    "0": "sr_ValveInstallationHistory",
                                    "1": "0"
                                },
                                {
                                    "0": "sr_ValvePhoto",
                                    "1": "0"
                                },
                                {
                                    "0": "sr_ValveRevision",
                                    "1": "0"
                                },
                                {
                                    "0": "StandardMaterial",
                                    "1": "1"
                                },
                                {
                                    "0": "State",
                                    "1": "1"
                                },
                                {
                                    "0": "systranschemas",
                                    "1": "0"
                                },
                                {
                                    "0": "tblPerformance",
                                    "1": "0"
                                },
                                {
                                    "0": "TestManufacturer",
                                    "1": "0"
                                },
                                {
                                    "0": "tmp_InventoryPartsCount",
                                    "1": "0"
                                },
                                {
                                    "0": "Tracking",
                                    "1": "0"
                                },
                                {
                                    "0": "TrackingUltimateUser",
                                    "1": "0"
                                },
                                {
                                    "0": "TrackingUsage",
                                    "1": "0"
                                },
                                {
                                    "0": "TransferSession",
                                    "1": "0"
                                },
                                {
                                    "0": "UltimateUser",
                                    "1": "0"
                                },
                                {
                                    "0": "Unit",
                                    "1": "1"
                                },
                                {
                                    "0": "UnitGoal",
                                    "1": "0"
                                },
                                {
                                    "0": "UnitOfMeasure",
                                    "1": "1"
                                },
                                {
                                    "0": "update_mr_date",
                                    "1": "0"
                                },
                                {
                                    "0": "UserField",
                                    "1": "0"
                                },
                                {
                                    "0": "UserFieldData",
                                    "1": "1"
                                },
                                {
                                    "0": "UserFieldFilter",
                                    "1": "0"
                                },
                                {
                                    "0": "UserFilterDesc",
                                    "1": "0"
                                },
                                {
                                    "0": "UserFilterUnits",
                                    "1": "0"
                                },
                                {
                                    "0": "UserFuncApplied",
                                    "1": "0"
                                },
                                {
                                    "0": "UserPlantAccess",
                                    "1": "0"
                                },
                                {
                                    "0": "UserUnits",
                                    "1": "1"
                                },
                                {
                                    "0": "ViewStateData",
                                    "1": "0"
                                },
                                {
                                    "0": "Walkthrough",
                                    "1": "0"
                                },
                                {
                                    "0": "WalkthroughAlarm",
                                    "1": "0"
                                },
                                {
                                    "0": "WalkthroughCheck",
                                    "1": "0"
                                },
                                {
                                    "0": "WalkthroughObservation",
                                    "1": "0"
                                },
                                {
                                    "0": "x_UserFilter",
                                    "1": "0"
                                }
                            ]
                        },
                        "text/html": "<table><tr><th>name</th><th>is_tracked_by_cdc</th></tr><tr><td>ActiveFilter</td><td>0</td></tr><tr><td>Actuator</td><td>0</td></tr><tr><td>ActuatorImport</td><td>0</td></tr><tr><td>Announcement</td><td>0</td></tr><tr><td>AnnouncementSet</td><td>0</td></tr><tr><td>APICode</td><td>0</td></tr><tr><td>Area</td><td>0</td></tr><tr><td>BadActorDefinition</td><td>0</td></tr><tr><td>BulkData</td><td>0</td></tr><tr><td>captured_columns</td><td>0</td></tr><tr><td>CascadingDropDown</td><td>0</td></tr><tr><td>cdc_jobs</td><td>0</td></tr><tr><td>CDPM_CUSTOMER</td><td>0</td></tr><tr><td>CDPM_LOCATION</td><td>0</td></tr><tr><td>CDPM_PARAM</td><td>0</td></tr><tr><td>CDPM_REPORT</td><td>0</td></tr><tr><td>CDPM_REPORT_TYPE</td><td>0</td></tr><tr><td>CDPM_USER</td><td>0</td></tr><tr><td>CDPM_USER_ROLE</td><td>0</td></tr><tr><td>CDPM_USER_TYPE</td><td>0</td></tr><tr><td>CDPMAssociatedFile</td><td>0</td></tr><tr><td>CDPMReport</td><td>0</td></tr><tr><td>CDPMReportFile</td><td>0</td></tr><tr><td>change_tables</td><td>0</td></tr><tr><td>ConditionMonitoringDevice</td><td>0</td></tr><tr><td>ConditionMonitoringDeviceInstallation</td><td>0</td></tr><tr><td>ConditionMonitoringTicket</td><td>1</td></tr><tr><td>Contract</td><td>0</td></tr><tr><td>ControlValve</td><td>0</td></tr><tr><td>ControlValveHistory</td><td>0</td></tr><tr><td>ControlValveImport</td><td>0</td></tr><tr><td>ControlValveRecommendation</td><td>0</td></tr><tr><td>ConversionFactors</td><td>0</td></tr><tr><td>Country</td><td>1</td></tr><tr><td>CouplingDriverType</td><td>1</td></tr><tr><td>CouplingHistory</td><td>1</td></tr><tr><td>CouplingInformation</td><td>1</td></tr><tr><td>CouplingManufacturer</td><td>0</td></tr><tr><td>CouplingRecommendation</td><td>1</td></tr><tr><td>cp_6MthAvg</td><td>0</td></tr><tr><td>cp_AllPhones</td><td>0</td></tr><tr><td>cp_CallDetail</td><td>0</td></tr><tr><td>cp_Changes</td><td>0</td></tr><tr><td>cp_Employees</td><td>0</td></tr><tr><td>cp_gems</td><td>0</td></tr><tr><td>cp_gemsSeals</td><td>0</td></tr><tr><td>cp_HoldReports</td><td>0</td></tr><tr><td>cp_NotesEmps</td><td>0</td></tr><tr><td>cp_Supervisors</td><td>0</td></tr><tr><td>cp_UserReports</td><td>0</td></tr><tr><td>cv_DropDown</td><td>0</td></tr><tr><td>cv_DropDown_FieldInfo</td><td>0</td></tr><tr><td>cv_EQAccessory</td><td>0</td></tr><tr><td>cv_EQActuator</td><td>0</td></tr><tr><td>cv_EQBody1</td><td>0</td></tr><tr><td>cv_EQBody2</td><td>0</td></tr><tr><td>cv_EQMain</td><td>0</td></tr><tr><td>cv_EQProcess</td><td>0</td></tr><tr><td>cv_File</td><td>0</td></tr><tr><td>cv_FlowserveBrand</td><td>0</td></tr><tr><td>cv_ImportEQAccessory</td><td>0</td></tr><tr><td>cv_ImportEQActuator</td><td>0</td></tr><tr><td>cv_ImportEQBody1</td><td>0</td></tr><tr><td>cv_ImportEQBody2</td><td>0</td></tr><tr><td>cv_ImportEQMain</td><td>0</td></tr><tr><td>cv_ImportEQProcess</td><td>0</td></tr><tr><td>cv_InformationPhotos</td><td>0</td></tr><tr><td>cv_ListField</td><td>0</td></tr><tr><td>cv_REAsFound</td><td>0</td></tr><tr><td>cv_REAsFoundPhotos</td><td>0</td></tr><tr><td>cv_ReCoefficients</td><td>0</td></tr><tr><td>cv_RECritDimen</td><td>0</td></tr><tr><td>cv_REDiagnostics</td><td>0</td></tr><tr><td>cv_REMain</td><td>0</td></tr><tr><td>cv_RepairLocations</td><td>0</td></tr><tr><td>cv_RepairValues</td><td>0</td></tr><tr><td>cv_REParts</td><td>0</td></tr><tr><td>cv_REPartsLabor</td><td>0</td></tr><tr><td>cv_REPricing</td><td>0</td></tr><tr><td>cv_RESpecAccessory</td><td>0</td></tr><tr><td>cv_RESpecActuator</td><td>0</td></tr><tr><td>cv_RESpecBody1</td><td>0</td></tr><tr><td>cv_RESpecBody2</td><td>0</td></tr><tr><td>cv_RESpecMain</td><td>0</td></tr><tr><td>cv_RESpecPhotos</td><td>0</td></tr><tr><td>cv_RESpecProcess</td><td>0</td></tr><tr><td>cv_RETestReport</td><td>0</td></tr><tr><td>cv_Revision</td><td>0</td></tr><tr><td>cv_REWorkDone</td><td>0</td></tr><tr><td>cv_UserFilter</td><td>0</td></tr><tr><td>cv_UserFilterOptionList</td><td>0</td></tr><tr><td>cv_UserFilterOptions</td><td>0</td></tr><tr><td>cv_UserFilterUnits</td><td>0</td></tr><tr><td>cv_ValveFilter</td><td>0</td></tr><tr><td>cv_ValveType</td><td>0</td></tr><tr><td>dbo_ConditionMonitoringTicket_CT</td><td>0</td></tr><tr><td>dbo_Country_CT</td><td>0</td></tr><tr><td>dbo_CouplingDriverType_CT</td><td>0</td></tr><tr><td>dbo_CouplingHistory_CT</td><td>0</td></tr><tr><td>dbo_CouplingInformation_CT</td><td>0</td></tr><tr><td>dbo_CouplingRecommendation_CT</td><td>0</td></tr><tr><td>dbo_Division_CT</td><td>0</td></tr><tr><td>dbo_Drawings_CT</td><td>0</td></tr><tr><td>dbo_DropDownDivisionMap_CT</td><td>0</td></tr><tr><td>dbo_EquipmentInformation_CT</td><td>0</td></tr><tr><td>dbo_EquipType_CT</td><td>0</td></tr><tr><td>dbo_FailureAnalysis_CT</td><td>0</td></tr><tr><td>dbo_FailureBellows_CT</td><td>0</td></tr><tr><td>dbo_FailureHardware_CT</td><td>0</td></tr><tr><td>dbo_FailureHistory_CT</td><td>0</td></tr><tr><td>dbo_FailureHistoryConsumed_CT</td><td>0</td></tr><tr><td>dbo_FailureHistorySealChamber_CT</td><td>0</td></tr><tr><td>dbo_FailureMode_CT</td><td>0</td></tr><tr><td>dbo_FailureORings_CT</td><td>0</td></tr><tr><td>dbo_FailureReason_CT</td><td>0</td></tr><tr><td>dbo_FailureRotatingFace_CT</td><td>0</td></tr><tr><td>dbo_FailureStationaryFace_CT</td><td>0</td></tr><tr><td>dbo_FailureSystem_CT</td><td>0</td></tr><tr><td>dbo_Field_CT</td><td>0</td></tr><tr><td>dbo_FieldType_CT</td><td>0</td></tr><tr><td>dbo_FlowstarFile_CT</td><td>0</td></tr><tr><td>dbo_Fluid_CT</td><td>0</td></tr><tr><td>dbo_Industry_CT</td><td>0</td></tr><tr><td>dbo_p_BearingFrame_CT</td><td>0</td></tr><tr><td>dbo_p_CustomerNumber_CT</td><td>0</td></tr><tr><td>dbo_p_DriverHistory_CT</td><td>0</td></tr><tr><td>dbo_p_DriverInformation_CT</td><td>0</td></tr><tr><td>dbo_p_DriverRecommendation_CT</td><td>0</td></tr><tr><td>dbo_p_DropDown_CT</td><td>0</td></tr><tr><td>dbo_p_DropDownList_CT</td><td>0</td></tr><tr><td>dbo_p_EnergyManagement_CT</td><td>0</td></tr><tr><td>dbo_p_EquipmentFilter_CT</td><td>0</td></tr><tr><td>dbo_p_EquipmentHistory_CT</td><td>0</td></tr><tr><td>dbo_p_EquipmentParts_CT</td><td>0</td></tr><tr><td>dbo_p_EquipmentRecommendation_CT</td><td>0</td></tr><tr><td>dbo_p_EquipmentRecParts_CT</td><td>0</td></tr><tr><td>dbo_p_MechanicalConfiguration_CT</td><td>0</td></tr><tr><td>dbo_p_PlantEngineers_CT</td><td>0</td></tr><tr><td>dbo_p_SealHistory_CT</td><td>0</td></tr><tr><td>dbo_p_SealHistoryParts_CT</td><td>0</td></tr><tr><td>dbo_Photo_CT</td><td>0</td></tr><tr><td>dbo_Plant_CT</td><td>0</td></tr><tr><td>dbo_ProcessInformation_CT</td><td>0</td></tr><tr><td>dbo_ProductStructure_CT</td><td>0</td></tr><tr><td>dbo_PumpConfiguration_CT</td><td>0</td></tr><tr><td>dbo_PumpDetail_CT</td><td>0</td></tr><tr><td>dbo_PumpHeritage_CT</td><td>0</td></tr><tr><td>dbo_PumpManufacturer_CT</td><td>0</td></tr><tr><td>dbo_PumpRecommendation_CT</td><td>0</td></tr><tr><td>dbo_PumpRecommendationActionsRec_CT</td><td>0</td></tr><tr><td>dbo_PumpRecommendationLink_CT</td><td>0</td></tr><tr><td>dbo_PumpRecommendationMaintenanceCost_CT</td><td>0</td></tr><tr><td>dbo_PumpRecommendationParts_CT</td><td>0</td></tr><tr><td>dbo_PumpRecommendationReasonsForRec_CT</td><td>0</td></tr><tr><td>dbo_PumpRecommendationROI_CT</td><td>0</td></tr><tr><td>dbo_PumpRecommendationROIAssociated_CT</td><td>0</td></tr><tr><td>dbo_Region_CT</td><td>0</td></tr><tr><td>dbo_SealConfig_CT</td><td>0</td></tr><tr><td>dbo_SealHistory_CT</td><td>0</td></tr><tr><td>dbo_SealInformation_CT</td><td>0</td></tr><tr><td>dbo_SealManufacturer_CT</td><td>0</td></tr><tr><td>dbo_SealRecommendation_CT</td><td>0</td></tr><tr><td>dbo_SISGroup_CT</td><td>0</td></tr><tr><td>dbo_SISGroupAccess_CT</td><td>0</td></tr><tr><td>dbo_SISUser_CT</td><td>0</td></tr><tr><td>dbo_SISUserGroup_CT</td><td>0</td></tr><tr><td>dbo_StandardMaterial_CT</td><td>0</td></tr><tr><td>dbo_State_CT</td><td>0</td></tr><tr><td>dbo_Unit_CT</td><td>0</td></tr><tr><td>dbo_UnitOfMeasure_CT</td><td>0</td></tr><tr><td>dbo_UserFieldData_CT</td><td>0</td></tr><tr><td>dbo_UserUnits_CT</td><td>0</td></tr><tr><td>ddl_history</td><td>0</td></tr><tr><td>de_BleedValve</td><td>0</td></tr><tr><td>de_Comment</td><td>0</td></tr><tr><td>de_ControlPanel</td><td>0</td></tr><tr><td>de_Crosshead</td><td>0</td></tr><tr><td>de_CuttingTool</td><td>0</td></tr><tr><td>de_DatasheetFieldInformation</td><td>0</td></tr><tr><td>de_DatasheetFieldType</td><td>0</td></tr><tr><td>de_DecokingHose</td><td>0</td></tr><tr><td>de_DecokingValve</td><td>0</td></tr><tr><td>de_DrillStem</td><td>0</td></tr><tr><td>de_DropDown</td><td>0</td></tr><tr><td>de_DropDownList</td><td>0</td></tr><tr><td>de_Drum</td><td>0</td></tr><tr><td>de_DrumUnit</td><td>0</td></tr><tr><td>de_EquipmentFilter</td><td>0</td></tr><tr><td>de_EquipmentHistory</td><td>0</td></tr><tr><td>de_EquipmentType</td><td>0</td></tr><tr><td>de_Field</td><td>0</td></tr><tr><td>de_FieldCategory</td><td>0</td></tr><tr><td>de_FieldDropDownMap</td><td>0</td></tr><tr><td>de_FieldType</td><td>0</td></tr><tr><td>de_Filter</td><td>0</td></tr><tr><td>de_FilterFieldCriteria</td><td>0</td></tr><tr><td>de_FilterLocationCriteria</td><td>0</td></tr><tr><td>de_FunctionalLocation</td><td>0</td></tr><tr><td>de_GuidePlate</td><td>0</td></tr><tr><td>de_Hoist</td><td>0</td></tr><tr><td>de_InspectionReport</td><td>0</td></tr><tr><td>de_Inventory</td><td>0</td></tr><tr><td>de_IsolationValve</td><td>0</td></tr><tr><td>de_MTBF</td><td>0</td></tr><tr><td>de_OriginalSpec</td><td>0</td></tr><tr><td>de_PulleyBlockSystem</td><td>0</td></tr><tr><td>de_Pump</td><td>0</td></tr><tr><td>de_Recommendation</td><td>0</td></tr><tr><td>de_Repair</td><td>0</td></tr><tr><td>de_RepairCause</td><td>0</td></tr><tr><td>de_RepairMode</td><td>0</td></tr><tr><td>de_RepairReason</td><td>0</td></tr><tr><td>de_RotaryJoint</td><td>0</td></tr><tr><td>de_StatusHistory</td><td>0</td></tr><tr><td>de_SurveyDocument</td><td>0</td></tr><tr><td>de_Upgrade</td><td>0</td></tr><tr><td>de_UpgradeList</td><td>0</td></tr><tr><td>DeletedEquipment</td><td>0</td></tr><tr><td>DeletedFailureHistory</td><td>0</td></tr><tr><td>DeletedPumpRecommendation</td><td>0</td></tr><tr><td>Division</td><td>1</td></tr><tr><td>Drawings</td><td>1</td></tr><tr><td>DropDownDivisionMap</td><td>1</td></tr><tr><td>EquipmentFilter</td><td>0</td></tr><tr><td>EquipmentImport</td><td>0</td></tr><tr><td>EquipmentInformation</td><td>1</td></tr><tr><td>EquipType</td><td>1</td></tr><tr><td>FailureAnalysis</td><td>1</td></tr><tr><td>FailureBellows</td><td>1</td></tr><tr><td>FailureCause</td><td>0</td></tr><tr><td>FailureHardware</td><td>1</td></tr><tr><td>FailureHistory</td><td>1</td></tr><tr><td>FailureHistoryConsumed</td><td>1</td></tr><tr><td>FailureHistorySealChamber</td><td>1</td></tr><tr><td>FailureMode</td><td>1</td></tr><tr><td>FailureORings</td><td>1</td></tr><tr><td>FailureReason</td><td>1</td></tr><tr><td>FailureRotatingFace</td><td>1</td></tr><tr><td>FailureStationaryFace</td><td>1</td></tr><tr><td>FailureSystem</td><td>1</td></tr><tr><td>Field</td><td>1</td></tr><tr><td>FieldType</td><td>1</td></tr><tr><td>FlowstarFile</td><td>1</td></tr><tr><td>FlowstarFile_Backup</td><td>0</td></tr><tr><td>FlowstarFile_backup_09102018</td><td>0</td></tr><tr><td>Fluid</td><td>1</td></tr><tr><td>gb_Performance</td><td>0</td></tr><tr><td>gb_TimeTracking</td><td>0</td></tr><tr><td>Globals</td><td>0</td></tr><tr><td>HistoryImport</td><td>0</td></tr><tr><td>'Import Info$'</td><td>0</td></tr><tr><td>index_columns</td><td>0</td></tr><tr><td>Industry</td><td>1</td></tr><tr><td>inv_Location</td><td>0</td></tr><tr><td>inv_PhysicalInvIN</td><td>0</td></tr><tr><td>inv_PhysicalInvOUT</td><td>0</td></tr><tr><td>inv_PhysicalInvOUT_completed</td><td>0</td></tr><tr><td>inv_PhysicalResults</td><td>0</td></tr><tr><td>inv_plantemail</td><td>0</td></tr><tr><td>inv_Usage</td><td>0</td></tr><tr><td>inv_UsageEmail</td><td>0</td></tr><tr><td>InvCost</td><td>0</td></tr><tr><td>InventoryCountryMap</td><td>0</td></tr><tr><td>InventoryPartsImport</td><td>0</td></tr><tr><td>InvUsage</td><td>0</td></tr><tr><td>Language</td><td>0</td></tr><tr><td>LegacyMaterial</td><td>0</td></tr><tr><td>Localization</td><td>0</td></tr><tr><td>Log</td><td>0</td></tr><tr><td>lsn_time_mapping</td><td>0</td></tr><tr><td>MAP_Plant</td><td>0</td></tr><tr><td>MAP_UltimateUser</td><td>0</td></tr><tr><td>p_AITMember</td><td>0</td></tr><tr><td>p_AppHistory</td><td>0</td></tr><tr><td>p_BaselineInput</td><td>0</td></tr><tr><td>p_BatchFilter</td><td>0</td></tr><tr><td>p_BearingFrame</td><td>1</td></tr><tr><td>p_CallLog</td><td>0</td></tr><tr><td>p_CallLogContacts</td><td>0</td></tr><tr><td>p_Constants</td><td>0</td></tr><tr><td>p_contactlist</td><td>0</td></tr><tr><td>p_CostSavingsDefinition</td><td>0</td></tr><tr><td>p_CostSavingsQuarterly</td><td>0</td></tr><tr><td>p_CostSavingsYearly</td><td>0</td></tr><tr><td>p_CustomerNumber</td><td>1</td></tr><tr><td>p_DatasheetFieldInformation</td><td>0</td></tr><tr><td>p_DatasheetFieldType</td><td>0</td></tr><tr><td>p_DriverHistory</td><td>1</td></tr><tr><td>p_DriverInformation</td><td>1</td></tr><tr><td>p_DriverRecommendation</td><td>1</td></tr><tr><td>p_DropDown</td><td>1</td></tr><tr><td>p_DropDownList</td><td>1</td></tr><tr><td>p_EnergyManagement</td><td>1</td></tr><tr><td>p_EquipmentFilter</td><td>1</td></tr><tr><td>p_EquipmentHistory</td><td>1</td></tr><tr><td>p_EquipmentHistoryParts</td><td>0</td></tr><tr><td>p_EquipmentImportA</td><td>0</td></tr><tr><td>p_EquipmentImportB</td><td>0</td></tr><tr><td>p_EquipmentParts</td><td>1</td></tr><tr><td>p_EquipmentRecommendation</td><td>1</td></tr><tr><td>p_EquipmentRecParts</td><td>1</td></tr><tr><td>p_FPCalculations</td><td>0</td></tr><tr><td>p_FPCause</td><td>0</td></tr><tr><td>p_FPSymptom</td><td>0</td></tr><tr><td>p_FPSymptomEntry</td><td>0</td></tr><tr><td>p_FPWeight</td><td>0</td></tr><tr><td>p_HistoryImport</td><td>0</td></tr><tr><td>p_ImportFields</td><td>0</td></tr><tr><td>p_InventoryBaselineInput</td><td>0</td></tr><tr><td>p_inventorypartscount</td><td>0</td></tr><tr><td>p_inventorypartscountold</td><td>0</td></tr><tr><td>p_InventoryQuarterly</td><td>0</td></tr><tr><td>p_InventorySSOverride</td><td>0</td></tr><tr><td>p_InventoryValue</td><td>0</td></tr><tr><td>p_Link</td><td>0</td></tr><tr><td>p_LinkValue</td><td>0</td></tr><tr><td>p_MechanicalConfiguration</td><td>1</td></tr><tr><td>p_Parts</td><td>0</td></tr><tr><td>p_PermissionSet</td><td>0</td></tr><tr><td>p_PermissionSetPermissions</td><td>0</td></tr><tr><td>p_PlantEngineers</td><td>1</td></tr><tr><td>p_PopulationAlarms</td><td>0</td></tr><tr><td>p_Report</td><td>0</td></tr><tr><td>p_ReportCriteria</td><td>0</td></tr><tr><td>p_ReportCriteriaMap</td><td>0</td></tr><tr><td>p_SealHistory</td><td>1</td></tr><tr><td>p_SealHistoryParts</td><td>1</td></tr><tr><td>p_Training</td><td>0</td></tr><tr><td>p_WhatsNew</td><td>0</td></tr><tr><td>Permission</td><td>0</td></tr><tr><td>Photo</td><td>1</td></tr><tr><td>Plant</td><td>1</td></tr><tr><td>PRMSInventory</td><td>0</td></tr><tr><td>PRMSRepairs</td><td>0</td></tr><tr><td>PRMSTemp</td><td>0</td></tr><tr><td>PRMSUsage</td><td>0</td></tr><tr><td>ProcessInformation</td><td>1</td></tr><tr><td>ProductStructure</td><td>1</td></tr><tr><td>PumpConfiguration</td><td>1</td></tr><tr><td>PumpDetail</td><td>1</td></tr><tr><td>PumpHeritage</td><td>1</td></tr><tr><td>PumpManufacturer</td><td>1</td></tr><tr><td>PumpRecommendation</td><td>1</td></tr><tr><td>PumpRecommendationActionsRec</td><td>1</td></tr><tr><td>PumpRecommendationLink</td><td>1</td></tr><tr><td>PumpRecommendationMaintenanceCost</td><td>1</td></tr><tr><td>PumpRecommendationParts</td><td>1</td></tr><tr><td>PumpRecommendationReasonsForRec</td><td>1</td></tr><tr><td>PumpRecommendationROI</td><td>1</td></tr><tr><td>PumpRecommendationROIAssociated</td><td>1</td></tr><tr><td>qf_CategoryFieldMap</td><td>0</td></tr><tr><td>qf_CategoryMap</td><td>0</td></tr><tr><td>qf_DropDownMap</td><td>0</td></tr><tr><td>qf_Field</td><td>0</td></tr><tr><td>qf_FieldCriteria</td><td>0</td></tr><tr><td>qf_FieldType</td><td>0</td></tr><tr><td>qf_FilterType</td><td>0</td></tr><tr><td>qf_GeneralFieldMap</td><td>0</td></tr><tr><td>qf_LocationCriteria</td><td>0</td></tr><tr><td>qf_ReportFilterDesc</td><td>0</td></tr><tr><td>qf_StandardFieldCriteria</td><td>0</td></tr><tr><td>qf_StandardFilter</td><td>0</td></tr><tr><td>qf_UserDefinedFilter</td><td>0</td></tr><tr><td>QRCLocation</td><td>0</td></tr><tr><td>query_test</td><td>0</td></tr><tr><td>QueryFilter</td><td>0</td></tr><tr><td>Region</td><td>1</td></tr><tr><td>ReliabilityEngineer</td><td>0</td></tr><tr><td>ReliabilityEngineerCategory</td><td>0</td></tr><tr><td>ReportFilter</td><td>0</td></tr><tr><td>Results</td><td>0</td></tr><tr><td>RP08</td><td>0</td></tr><tr><td>RP09</td><td>0</td></tr><tr><td>RP14</td><td>0</td></tr><tr><td>RP15</td><td>0</td></tr><tr><td>RP19</td><td>0</td></tr><tr><td>RP27</td><td>0</td></tr><tr><td>RP32</td><td>0</td></tr><tr><td>RP33</td><td>0</td></tr><tr><td>RP98</td><td>0</td></tr><tr><td>SealConfig</td><td>1</td></tr><tr><td>SealHistory</td><td>1</td></tr><tr><td>SealInformation</td><td>1</td></tr><tr><td>SealManufacturer</td><td>1</td></tr><tr><td>SealRecommendation</td><td>1</td></tr><tr><td>SISGroup</td><td>1</td></tr><tr><td>SISGroupAccess</td><td>1</td></tr><tr><td>SISGroupPrivilege</td><td>0</td></tr><tr><td>SISGroupSet</td><td>0</td></tr><tr><td>SISLoginHistory</td><td>0</td></tr><tr><td>SISUser</td><td>1</td></tr><tr><td>SISUserGroup</td><td>1</td></tr><tr><td>SISUserPlantDesired</td><td>0</td></tr><tr><td>SISUserPrivDesired</td><td>0</td></tr><tr><td>SISUserPwdHistory</td><td>0</td></tr><tr><td>SISUserSecurity</td><td>0</td></tr><tr><td>sr_ApplicationFilter</td><td>0</td></tr><tr><td>sr_AppMain</td><td>0</td></tr><tr><td>sr_AppPhoto</td><td>0</td></tr><tr><td>sr_AppProcess</td><td>0</td></tr><tr><td>sr_AppRevision</td><td>0</td></tr><tr><td>sr_DropDownItems</td><td>0</td></tr><tr><td>sr_DropDownLists</td><td>0</td></tr><tr><td>sr_File</td><td>0</td></tr><tr><td>sr_Import_AppMain</td><td>0</td></tr><tr><td>sr_Import_AppProcess</td><td>0</td></tr><tr><td>sr_Import_Valve_1</td><td>0</td></tr><tr><td>sr_Import_Valve_2</td><td>0</td></tr><tr><td>sr_MatchingApplicationAndValveFields</td><td>0</td></tr><tr><td>sr_OptionItem</td><td>0</td></tr><tr><td>sr_OptionList</td><td>0</td></tr><tr><td>sr_REAsBuilt_Process</td><td>0</td></tr><tr><td>sr_REAsBuilt_Valve_1</td><td>0</td></tr><tr><td>sr_REAsBuilt_Valve_2</td><td>0</td></tr><tr><td>sr_REAsFound_A</td><td>0</td></tr><tr><td>sr_REAsFound_B</td><td>0</td></tr><tr><td>sr_REAsReceived_Process</td><td>0</td></tr><tr><td>sr_REAsReceived_Valve_1</td><td>0</td></tr><tr><td>sr_REAsReceived_Valve_2</td><td>0</td></tr><tr><td>sr_RECoefficient</td><td>0</td></tr><tr><td>sr_RECriticalDimensions</td><td>0</td></tr><tr><td>sr_RECriticalityValue</td><td>0</td></tr><tr><td>sr_REMain</td><td>0</td></tr><tr><td>sr_REParts</td><td>0</td></tr><tr><td>sr_REPartsLabor</td><td>0</td></tr><tr><td>sr_REPhoto</td><td>0</td></tr><tr><td>sr_REPreTest</td><td>0</td></tr><tr><td>sr_REPricing</td><td>0</td></tr><tr><td>sr_RERepairValue</td><td>0</td></tr><tr><td>sr_RESelectedCoefficientField</td><td>0</td></tr><tr><td>sr_RETestResults</td><td>0</td></tr><tr><td>sr_REVisualInspection</td><td>0</td></tr><tr><td>sr_REWorkDone_1</td><td>0</td></tr><tr><td>sr_REWorkDone_2</td><td>0</td></tr><tr><td>sr_Valve_1</td><td>0</td></tr><tr><td>sr_Valve_2</td><td>0</td></tr><tr><td>sr_Valve_Test</td><td>0</td></tr><tr><td>sr_ValveFilter</td><td>0</td></tr><tr><td>sr_ValveInstallationHistory</td><td>0</td></tr><tr><td>sr_ValvePhoto</td><td>0</td></tr><tr><td>sr_ValveRevision</td><td>0</td></tr><tr><td>StandardMaterial</td><td>1</td></tr><tr><td>State</td><td>1</td></tr><tr><td>systranschemas</td><td>0</td></tr><tr><td>tblPerformance</td><td>0</td></tr><tr><td>TestManufacturer</td><td>0</td></tr><tr><td>tmp_InventoryPartsCount</td><td>0</td></tr><tr><td>Tracking</td><td>0</td></tr><tr><td>TrackingUltimateUser</td><td>0</td></tr><tr><td>TrackingUsage</td><td>0</td></tr><tr><td>TransferSession</td><td>0</td></tr><tr><td>UltimateUser</td><td>0</td></tr><tr><td>Unit</td><td>1</td></tr><tr><td>UnitGoal</td><td>0</td></tr><tr><td>UnitOfMeasure</td><td>1</td></tr><tr><td>update_mr_date</td><td>0</td></tr><tr><td>UserField</td><td>0</td></tr><tr><td>UserFieldData</td><td>1</td></tr><tr><td>UserFieldFilter</td><td>0</td></tr><tr><td>UserFilterDesc</td><td>0</td></tr><tr><td>UserFilterUnits</td><td>0</td></tr><tr><td>UserFuncApplied</td><td>0</td></tr><tr><td>UserPlantAccess</td><td>0</td></tr><tr><td>UserUnits</td><td>1</td></tr><tr><td>ViewStateData</td><td>0</td></tr><tr><td>Walkthrough</td><td>0</td></tr><tr><td>WalkthroughAlarm</td><td>0</td></tr><tr><td>WalkthroughCheck</td><td>0</td></tr><tr><td>WalkthroughObservation</td><td>0</td></tr><tr><td>x_UserFilter</td><td>0</td></tr></table>"
                    },
                    "metadata": {}
                }
            ],
            "execution_count": 5
        },
        {
            "cell_type": "markdown",
            "source": [
                "## Scan of all the CDC Changes"
            ],
            "metadata": {
                "azdata_cell_guid": "0b7df60c-1fbd-4547-8db7-2137caf17cf1"
            }
        },
        {
            "cell_type": "code",
            "source": [
                "SELECT * from sys.dm_cdc_log_scan_sessions where empty_scan_count <> 0 \n",
                ""
            ],
            "metadata": {
                "azdata_cell_guid": "a41b0eb1-a043-4059-9f96-0a15b767f81d"
            },
            "outputs": [
                {
                    "output_type": "display_data",
                    "data": {
                        "text/html": "(15 rows affected)"
                    },
                    "metadata": {}
                },
                {
                    "output_type": "display_data",
                    "data": {
                        "text/html": "Total execution time: 00:00:00.341"
                    },
                    "metadata": {}
                },
                {
                    "output_type": "execute_result",
                    "execution_count": 6,
                    "data": {
                        "application/vnd.dataresource+json": {
                            "schema": {
                                "fields": [
                                    {
                                        "name": "session_id"
                                    },
                                    {
                                        "name": "start_time"
                                    },
                                    {
                                        "name": "end_time"
                                    },
                                    {
                                        "name": "duration"
                                    },
                                    {
                                        "name": "scan_phase"
                                    },
                                    {
                                        "name": "error_count"
                                    },
                                    {
                                        "name": "start_lsn"
                                    },
                                    {
                                        "name": "current_lsn"
                                    },
                                    {
                                        "name": "end_lsn"
                                    },
                                    {
                                        "name": "tran_count"
                                    },
                                    {
                                        "name": "last_commit_lsn"
                                    },
                                    {
                                        "name": "last_commit_time"
                                    },
                                    {
                                        "name": "log_record_count"
                                    },
                                    {
                                        "name": "schema_change_count"
                                    },
                                    {
                                        "name": "command_count"
                                    },
                                    {
                                        "name": "first_begin_cdc_lsn"
                                    },
                                    {
                                        "name": "last_commit_cdc_lsn"
                                    },
                                    {
                                        "name": "last_commit_cdc_time"
                                    },
                                    {
                                        "name": "latency"
                                    },
                                    {
                                        "name": "empty_scan_count"
                                    },
                                    {
                                        "name": "failed_sessions_count"
                                    }
                                ]
                            },
                            "data": [
                                {
                                    "0": "517",
                                    "1": "2021-12-08 04:08:59.903",
                                    "2": "2021-12-08 04:11:30.313",
                                    "3": "0",
                                    "4": "Done",
                                    "5": "0",
                                    "6": "00000000:00000000:0000\u0000",
                                    "7": "00000000:00000000:0000\u0000",
                                    "8": "00000000:00000000:0000\u0000",
                                    "9": "0",
                                    "10": "00000000:00000000:0000\u0000",
                                    "11": "1900-01-01 00:00:00.000",
                                    "12": "0",
                                    "13": "0",
                                    "14": "0",
                                    "15": "00000000:00000000:0000\u0000",
                                    "16": "00000000:00000000:0000\u0000",
                                    "17": "1900-01-01 00:00:00.000",
                                    "18": "0",
                                    "19": "11",
                                    "20": "0"
                                },
                                {
                                    "0": "529",
                                    "1": "2021-12-08 04:12:00.377",
                                    "2": "2021-12-08 04:12:30.470",
                                    "3": "0",
                                    "4": "Done",
                                    "5": "0",
                                    "6": "00000000:00000000:0000\u0000",
                                    "7": "00000000:00000000:0000\u0000",
                                    "8": "00000000:00000000:0000\u0000",
                                    "9": "0",
                                    "10": "00000000:00000000:0000\u0000",
                                    "11": "1900-01-01 00:00:00.000",
                                    "12": "0",
                                    "13": "0",
                                    "14": "0",
                                    "15": "00000000:00000000:0000\u0000",
                                    "16": "00000000:00000000:0000\u0000",
                                    "17": "1900-01-01 00:00:00.000",
                                    "18": "0",
                                    "19": "3",
                                    "20": "0"
                                },
                                {
                                    "0": "534",
                                    "1": "2021-12-08 04:13:15.597",
                                    "2": "2021-12-08 04:13:30.647",
                                    "3": "0",
                                    "4": "Done",
                                    "5": "0",
                                    "6": "00000000:00000000:0000\u0000",
                                    "7": "00000000:00000000:0000\u0000",
                                    "8": "00000000:00000000:0000\u0000",
                                    "9": "0",
                                    "10": "00000000:00000000:0000\u0000",
                                    "11": "1900-01-01 00:00:00.000",
                                    "12": "0",
                                    "13": "0",
                                    "14": "0",
                                    "15": "00000000:00000000:0000\u0000",
                                    "16": "00000000:00000000:0000\u0000",
                                    "17": "1900-01-01 00:00:00.000",
                                    "18": "0",
                                    "19": "2",
                                    "20": "0"
                                },
                                {
                                    "0": "537",
                                    "1": "2021-12-08 04:14:00.737",
                                    "2": "2021-12-08 04:22:47.210",
                                    "3": "0",
                                    "4": "Done",
                                    "5": "0",
                                    "6": "00000000:00000000:0000\u0000",
                                    "7": "00000000:00000000:0000\u0000",
                                    "8": "00000000:00000000:0000\u0000",
                                    "9": "0",
                                    "10": "00000000:00000000:0000\u0000",
                                    "11": "1900-01-01 00:00:00.000",
                                    "12": "0",
                                    "13": "0",
                                    "14": "0",
                                    "15": "00000000:00000000:0000\u0000",
                                    "16": "00000000:00000000:0000\u0000",
                                    "17": "1900-01-01 00:00:00.000",
                                    "18": "0",
                                    "19": "36",
                                    "20": "0"
                                },
                                {
                                    "0": "574",
                                    "1": "2021-12-08 04:23:17.307",
                                    "2": "2021-12-08 04:59:08.393",
                                    "3": "0",
                                    "4": "Done",
                                    "5": "0",
                                    "6": "00000000:00000000:0000\u0000",
                                    "7": "00000000:00000000:0000\u0000",
                                    "8": "00000000:00000000:0000\u0000",
                                    "9": "0",
                                    "10": "00000000:00000000:0000\u0000",
                                    "11": "1900-01-01 00:00:00.000",
                                    "12": "0",
                                    "13": "0",
                                    "14": "0",
                                    "15": "00000000:00000000:0000\u0000",
                                    "16": "00000000:00000000:0000\u0000",
                                    "17": "1900-01-01 00:00:00.000",
                                    "18": "0",
                                    "19": "144",
                                    "20": "0"
                                },
                                {
                                    "0": "719",
                                    "1": "2021-12-08 04:59:38.490",
                                    "2": "2021-12-08 05:00:38.630",
                                    "3": "0",
                                    "4": "Done",
                                    "5": "0",
                                    "6": "00000000:00000000:0000\u0000",
                                    "7": "00000000:00000000:0000\u0000",
                                    "8": "00000000:00000000:0000\u0000",
                                    "9": "0",
                                    "10": "00000000:00000000:0000\u0000",
                                    "11": "1900-01-01 00:00:00.000",
                                    "12": "0",
                                    "13": "0",
                                    "14": "0",
                                    "15": "00000000:00000000:0000\u0000",
                                    "16": "00000000:00000000:0000\u0000",
                                    "17": "1900-01-01 00:00:00.000",
                                    "18": "0",
                                    "19": "5",
                                    "20": "0"
                                },
                                {
                                    "0": "725",
                                    "1": "2021-12-08 05:01:08.707",
                                    "2": "2021-12-08 05:09:55.180",
                                    "3": "0",
                                    "4": "Done",
                                    "5": "0",
                                    "6": "00000000:00000000:0000\u0000",
                                    "7": "00000000:00000000:0000\u0000",
                                    "8": "00000000:00000000:0000\u0000",
                                    "9": "0",
                                    "10": "00000000:00000000:0000\u0000",
                                    "11": "1900-01-01 00:00:00.000",
                                    "12": "0",
                                    "13": "0",
                                    "14": "0",
                                    "15": "00000000:00000000:0000\u0000",
                                    "16": "00000000:00000000:0000\u0000",
                                    "17": "1900-01-01 00:00:00.000",
                                    "18": "0",
                                    "19": "36",
                                    "20": "0"
                                },
                                {
                                    "0": "762",
                                    "1": "2021-12-08 05:10:25.277",
                                    "2": "2021-12-08 05:10:25.280",
                                    "3": "0",
                                    "4": "Done",
                                    "5": "0",
                                    "6": "00000000:00000000:0000\u0000",
                                    "7": "00000000:00000000:0000\u0000",
                                    "8": "00000000:00000000:0000\u0000",
                                    "9": "0",
                                    "10": "00000000:00000000:0000\u0000",
                                    "11": "1900-01-01 00:00:00.000",
                                    "12": "0",
                                    "13": "0",
                                    "14": "0",
                                    "15": "00000000:00000000:0000\u0000",
                                    "16": "00000000:00000000:0000\u0000",
                                    "17": "1900-01-01 00:00:00.000",
                                    "18": "0",
                                    "19": "1",
                                    "20": "0"
                                },
                                {
                                    "0": "764",
                                    "1": "2021-12-08 05:10:55.353",
                                    "2": "2021-12-08 05:10:55.353",
                                    "3": "0",
                                    "4": "Done",
                                    "5": "0",
                                    "6": "00000000:00000000:0000\u0000",
                                    "7": "00000000:00000000:0000\u0000",
                                    "8": "00000000:00000000:0000\u0000",
                                    "9": "0",
                                    "10": "00000000:00000000:0000\u0000",
                                    "11": "1900-01-01 00:00:00.000",
                                    "12": "0",
                                    "13": "0",
                                    "14": "0",
                                    "15": "00000000:00000000:0000\u0000",
                                    "16": "00000000:00000000:0000\u0000",
                                    "17": "1900-01-01 00:00:00.000",
                                    "18": "0",
                                    "19": "1",
                                    "20": "0"
                                },
                                {
                                    "0": "767",
                                    "1": "2021-12-08 05:11:40.467",
                                    "2": "2021-12-08 05:11:55.513",
                                    "3": "0",
                                    "4": "Done",
                                    "5": "0",
                                    "6": "00000000:00000000:0000\u0000",
                                    "7": "00000000:00000000:0000\u0000",
                                    "8": "00000000:00000000:0000\u0000",
                                    "9": "0",
                                    "10": "00000000:00000000:0000\u0000",
                                    "11": "1900-01-01 00:00:00.000",
                                    "12": "0",
                                    "13": "0",
                                    "14": "0",
                                    "15": "00000000:00000000:0000\u0000",
                                    "16": "00000000:00000000:0000\u0000",
                                    "17": "1900-01-01 00:00:00.000",
                                    "18": "0",
                                    "19": "2",
                                    "20": "0"
                                },
                                {
                                    "0": "770",
                                    "1": "2021-12-08 05:12:25.607",
                                    "2": "2021-12-08 05:12:25.607",
                                    "3": "0",
                                    "4": "Done",
                                    "5": "0",
                                    "6": "00000000:00000000:0000\u0000",
                                    "7": "00000000:00000000:0000\u0000",
                                    "8": "00000000:00000000:0000\u0000",
                                    "9": "0",
                                    "10": "00000000:00000000:0000\u0000",
                                    "11": "1900-01-01 00:00:00.000",
                                    "12": "0",
                                    "13": "0",
                                    "14": "0",
                                    "15": "00000000:00000000:0000\u0000",
                                    "16": "00000000:00000000:0000\u0000",
                                    "17": "1900-01-01 00:00:00.000",
                                    "18": "0",
                                    "19": "1",
                                    "20": "0"
                                },
                                {
                                    "0": "772",
                                    "1": "2021-12-08 05:12:55.707",
                                    "2": "2021-12-08 05:14:41.013",
                                    "3": "0",
                                    "4": "Done",
                                    "5": "0",
                                    "6": "00000000:00000000:0000\u0000",
                                    "7": "00000000:00000000:0000\u0000",
                                    "8": "00000000:00000000:0000\u0000",
                                    "9": "0",
                                    "10": "00000000:00000000:0000\u0000",
                                    "11": "1900-01-01 00:00:00.000",
                                    "12": "0",
                                    "13": "0",
                                    "14": "0",
                                    "15": "00000000:00000000:0000\u0000",
                                    "16": "00000000:00000000:0000\u0000",
                                    "17": "1900-01-01 00:00:00.000",
                                    "18": "0",
                                    "19": "8",
                                    "20": "0"
                                },
                                {
                                    "0": "781",
                                    "1": "2021-12-08 05:15:11.093",
                                    "2": "2021-12-08 05:20:26.973",
                                    "3": "0",
                                    "4": "Done",
                                    "5": "0",
                                    "6": "00000000:00000000:0000\u0000",
                                    "7": "00000000:00000000:0000\u0000",
                                    "8": "00000000:00000000:0000\u0000",
                                    "9": "0",
                                    "10": "00000000:00000000:0000\u0000",
                                    "11": "1900-01-01 00:00:00.000",
                                    "12": "0",
                                    "13": "0",
                                    "14": "0",
                                    "15": "00000000:00000000:0000\u0000",
                                    "16": "00000000:00000000:0000\u0000",
                                    "17": "1900-01-01 00:00:00.000",
                                    "18": "0",
                                    "19": "22",
                                    "20": "0"
                                },
                                {
                                    "0": "804",
                                    "1": "2021-12-08 05:20:57.050",
                                    "2": "2021-12-08 05:22:27.330",
                                    "3": "0",
                                    "4": "Done",
                                    "5": "0",
                                    "6": "00000000:00000000:0000\u0000",
                                    "7": "00000000:00000000:0000\u0000",
                                    "8": "00000000:00000000:0000\u0000",
                                    "9": "0",
                                    "10": "00000000:00000000:0000\u0000",
                                    "11": "1900-01-01 00:00:00.000",
                                    "12": "0",
                                    "13": "0",
                                    "14": "0",
                                    "15": "00000000:00000000:0000\u0000",
                                    "16": "00000000:00000000:0000\u0000",
                                    "17": "1900-01-01 00:00:00.000",
                                    "18": "0",
                                    "19": "7",
                                    "20": "0"
                                },
                                {
                                    "0": "812",
                                    "1": "2021-12-08 05:22:57.427",
                                    "2": "2021-12-08 05:31:13.840",
                                    "3": "0",
                                    "4": "Done",
                                    "5": "0",
                                    "6": "00000000:00000000:0000\u0000",
                                    "7": "00000000:00000000:0000\u0000",
                                    "8": "00000000:00000000:0000\u0000",
                                    "9": "0",
                                    "10": "00000000:00000000:0000\u0000",
                                    "11": "1900-01-01 00:00:00.000",
                                    "12": "0",
                                    "13": "0",
                                    "14": "0",
                                    "15": "00000000:00000000:0000\u0000",
                                    "16": "00000000:00000000:0000\u0000",
                                    "17": "1900-01-01 00:00:00.000",
                                    "18": "0",
                                    "19": "34",
                                    "20": "0"
                                }
                            ]
                        },
                        "text/html": "<table><tr><th>session_id</th><th>start_time</th><th>end_time</th><th>duration</th><th>scan_phase</th><th>error_count</th><th>start_lsn</th><th>current_lsn</th><th>end_lsn</th><th>tran_count</th><th>last_commit_lsn</th><th>last_commit_time</th><th>log_record_count</th><th>schema_change_count</th><th>command_count</th><th>first_begin_cdc_lsn</th><th>last_commit_cdc_lsn</th><th>last_commit_cdc_time</th><th>latency</th><th>empty_scan_count</th><th>failed_sessions_count</th></tr><tr><td>517</td><td>2021-12-08 04:08:59.903</td><td>2021-12-08 04:11:30.313</td><td>0</td><td>Done</td><td>0</td><td>00000000:00000000:0000\u0000</td><td>00000000:00000000:0000\u0000</td><td>00000000:00000000:0000\u0000</td><td>0</td><td>00000000:00000000:0000\u0000</td><td>1900-01-01 00:00:00.000</td><td>0</td><td>0</td><td>0</td><td>00000000:00000000:0000\u0000</td><td>00000000:00000000:0000\u0000</td><td>1900-01-01 00:00:00.000</td><td>0</td><td>11</td><td>0</td></tr><tr><td>529</td><td>2021-12-08 04:12:00.377</td><td>2021-12-08 04:12:30.470</td><td>0</td><td>Done</td><td>0</td><td>00000000:00000000:0000\u0000</td><td>00000000:00000000:0000\u0000</td><td>00000000:00000000:0000\u0000</td><td>0</td><td>00000000:00000000:0000\u0000</td><td>1900-01-01 00:00:00.000</td><td>0</td><td>0</td><td>0</td><td>00000000:00000000:0000\u0000</td><td>00000000:00000000:0000\u0000</td><td>1900-01-01 00:00:00.000</td><td>0</td><td>3</td><td>0</td></tr><tr><td>534</td><td>2021-12-08 04:13:15.597</td><td>2021-12-08 04:13:30.647</td><td>0</td><td>Done</td><td>0</td><td>00000000:00000000:0000\u0000</td><td>00000000:00000000:0000\u0000</td><td>00000000:00000000:0000\u0000</td><td>0</td><td>00000000:00000000:0000\u0000</td><td>1900-01-01 00:00:00.000</td><td>0</td><td>0</td><td>0</td><td>00000000:00000000:0000\u0000</td><td>00000000:00000000:0000\u0000</td><td>1900-01-01 00:00:00.000</td><td>0</td><td>2</td><td>0</td></tr><tr><td>537</td><td>2021-12-08 04:14:00.737</td><td>2021-12-08 04:22:47.210</td><td>0</td><td>Done</td><td>0</td><td>00000000:00000000:0000\u0000</td><td>00000000:00000000:0000\u0000</td><td>00000000:00000000:0000\u0000</td><td>0</td><td>00000000:00000000:0000\u0000</td><td>1900-01-01 00:00:00.000</td><td>0</td><td>0</td><td>0</td><td>00000000:00000000:0000\u0000</td><td>00000000:00000000:0000\u0000</td><td>1900-01-01 00:00:00.000</td><td>0</td><td>36</td><td>0</td></tr><tr><td>574</td><td>2021-12-08 04:23:17.307</td><td>2021-12-08 04:59:08.393</td><td>0</td><td>Done</td><td>0</td><td>00000000:00000000:0000\u0000</td><td>00000000:00000000:0000\u0000</td><td>00000000:00000000:0000\u0000</td><td>0</td><td>00000000:00000000:0000\u0000</td><td>1900-01-01 00:00:00.000</td><td>0</td><td>0</td><td>0</td><td>00000000:00000000:0000\u0000</td><td>00000000:00000000:0000\u0000</td><td>1900-01-01 00:00:00.000</td><td>0</td><td>144</td><td>0</td></tr><tr><td>719</td><td>2021-12-08 04:59:38.490</td><td>2021-12-08 05:00:38.630</td><td>0</td><td>Done</td><td>0</td><td>00000000:00000000:0000\u0000</td><td>00000000:00000000:0000\u0000</td><td>00000000:00000000:0000\u0000</td><td>0</td><td>00000000:00000000:0000\u0000</td><td>1900-01-01 00:00:00.000</td><td>0</td><td>0</td><td>0</td><td>00000000:00000000:0000\u0000</td><td>00000000:00000000:0000\u0000</td><td>1900-01-01 00:00:00.000</td><td>0</td><td>5</td><td>0</td></tr><tr><td>725</td><td>2021-12-08 05:01:08.707</td><td>2021-12-08 05:09:55.180</td><td>0</td><td>Done</td><td>0</td><td>00000000:00000000:0000\u0000</td><td>00000000:00000000:0000\u0000</td><td>00000000:00000000:0000\u0000</td><td>0</td><td>00000000:00000000:0000\u0000</td><td>1900-01-01 00:00:00.000</td><td>0</td><td>0</td><td>0</td><td>00000000:00000000:0000\u0000</td><td>00000000:00000000:0000\u0000</td><td>1900-01-01 00:00:00.000</td><td>0</td><td>36</td><td>0</td></tr><tr><td>762</td><td>2021-12-08 05:10:25.277</td><td>2021-12-08 05:10:25.280</td><td>0</td><td>Done</td><td>0</td><td>00000000:00000000:0000\u0000</td><td>00000000:00000000:0000\u0000</td><td>00000000:00000000:0000\u0000</td><td>0</td><td>00000000:00000000:0000\u0000</td><td>1900-01-01 00:00:00.000</td><td>0</td><td>0</td><td>0</td><td>00000000:00000000:0000\u0000</td><td>00000000:00000000:0000\u0000</td><td>1900-01-01 00:00:00.000</td><td>0</td><td>1</td><td>0</td></tr><tr><td>764</td><td>2021-12-08 05:10:55.353</td><td>2021-12-08 05:10:55.353</td><td>0</td><td>Done</td><td>0</td><td>00000000:00000000:0000\u0000</td><td>00000000:00000000:0000\u0000</td><td>00000000:00000000:0000\u0000</td><td>0</td><td>00000000:00000000:0000\u0000</td><td>1900-01-01 00:00:00.000</td><td>0</td><td>0</td><td>0</td><td>00000000:00000000:0000\u0000</td><td>00000000:00000000:0000\u0000</td><td>1900-01-01 00:00:00.000</td><td>0</td><td>1</td><td>0</td></tr><tr><td>767</td><td>2021-12-08 05:11:40.467</td><td>2021-12-08 05:11:55.513</td><td>0</td><td>Done</td><td>0</td><td>00000000:00000000:0000\u0000</td><td>00000000:00000000:0000\u0000</td><td>00000000:00000000:0000\u0000</td><td>0</td><td>00000000:00000000:0000\u0000</td><td>1900-01-01 00:00:00.000</td><td>0</td><td>0</td><td>0</td><td>00000000:00000000:0000\u0000</td><td>00000000:00000000:0000\u0000</td><td>1900-01-01 00:00:00.000</td><td>0</td><td>2</td><td>0</td></tr><tr><td>770</td><td>2021-12-08 05:12:25.607</td><td>2021-12-08 05:12:25.607</td><td>0</td><td>Done</td><td>0</td><td>00000000:00000000:0000\u0000</td><td>00000000:00000000:0000\u0000</td><td>00000000:00000000:0000\u0000</td><td>0</td><td>00000000:00000000:0000\u0000</td><td>1900-01-01 00:00:00.000</td><td>0</td><td>0</td><td>0</td><td>00000000:00000000:0000\u0000</td><td>00000000:00000000:0000\u0000</td><td>1900-01-01 00:00:00.000</td><td>0</td><td>1</td><td>0</td></tr><tr><td>772</td><td>2021-12-08 05:12:55.707</td><td>2021-12-08 05:14:41.013</td><td>0</td><td>Done</td><td>0</td><td>00000000:00000000:0000\u0000</td><td>00000000:00000000:0000\u0000</td><td>00000000:00000000:0000\u0000</td><td>0</td><td>00000000:00000000:0000\u0000</td><td>1900-01-01 00:00:00.000</td><td>0</td><td>0</td><td>0</td><td>00000000:00000000:0000\u0000</td><td>00000000:00000000:0000\u0000</td><td>1900-01-01 00:00:00.000</td><td>0</td><td>8</td><td>0</td></tr><tr><td>781</td><td>2021-12-08 05:15:11.093</td><td>2021-12-08 05:20:26.973</td><td>0</td><td>Done</td><td>0</td><td>00000000:00000000:0000\u0000</td><td>00000000:00000000:0000\u0000</td><td>00000000:00000000:0000\u0000</td><td>0</td><td>00000000:00000000:0000\u0000</td><td>1900-01-01 00:00:00.000</td><td>0</td><td>0</td><td>0</td><td>00000000:00000000:0000\u0000</td><td>00000000:00000000:0000\u0000</td><td>1900-01-01 00:00:00.000</td><td>0</td><td>22</td><td>0</td></tr><tr><td>804</td><td>2021-12-08 05:20:57.050</td><td>2021-12-08 05:22:27.330</td><td>0</td><td>Done</td><td>0</td><td>00000000:00000000:0000\u0000</td><td>00000000:00000000:0000\u0000</td><td>00000000:00000000:0000\u0000</td><td>0</td><td>00000000:00000000:0000\u0000</td><td>1900-01-01 00:00:00.000</td><td>0</td><td>0</td><td>0</td><td>00000000:00000000:0000\u0000</td><td>00000000:00000000:0000\u0000</td><td>1900-01-01 00:00:00.000</td><td>0</td><td>7</td><td>0</td></tr><tr><td>812</td><td>2021-12-08 05:22:57.427</td><td>2021-12-08 05:31:13.840</td><td>0</td><td>Done</td><td>0</td><td>00000000:00000000:0000\u0000</td><td>00000000:00000000:0000\u0000</td><td>00000000:00000000:0000\u0000</td><td>0</td><td>00000000:00000000:0000\u0000</td><td>1900-01-01 00:00:00.000</td><td>0</td><td>0</td><td>0</td><td>00000000:00000000:0000\u0000</td><td>00000000:00000000:0000\u0000</td><td>1900-01-01 00:00:00.000</td><td>0</td><td>34</td><td>0</td></tr></table>"
                    },
                    "metadata": {}
                }
            ],
            "execution_count": 6
        },
        {
            "cell_type": "markdown",
            "source": [
                "## Show all of the Changes for a CDC Enabled Table\n",
                "\n",
                "- This is the SQL the Boomi operation will need to run for each table"
            ],
            "metadata": {
                "azdata_cell_guid": "af3432f7-8098-4b40-8689-d756c1d10162"
            }
        },
        {
            "cell_type": "code",
            "source": [
                "SELECT   -- shows the changes for a CDC table, in this case the Area table      \n",
                "      [__$start_lsn],\n",
                "      [__$operation]      \n",
                "      ,[AreaNo]\n",
                "      ,[PlantNo]\n",
                "      ,[AreaName]     \n",
                "  FROM [cdc].[dbo_Area_CT] \n",
                "-- from this result, the following is checked on the _$operation column of the returned data set\n",
                "-- =========\n",
                "-- 1 = delete\n",
                "-- 2 = insert\n",
                "-- 3 = update (captured column values are those before the update operation). \n",
                "-- 4 = update (captured column values are those after the update operation)\n",
                "-- For example:\n",
                "--  __$operation\t    AreaNo\tPlantNo\tAreaName\n",
                "--  3\t                218\t    40\t    test area\n",
                "--  4\t                218\t    40\t    test areas\n",
                "-- ========="
            ],
            "metadata": {
                "azdata_cell_guid": "f353b052-9a13-445c-bee6-f1c349ec1500"
            },
            "outputs": [
                {
                    "output_type": "display_data",
                    "data": {
                        "text/html": "(0 rows affected)"
                    },
                    "metadata": {}
                },
                {
                    "output_type": "display_data",
                    "data": {
                        "text/html": "Total execution time: 00:00:00.317"
                    },
                    "metadata": {}
                },
                {
                    "output_type": "execute_result",
                    "execution_count": 62,
                    "data": {
                        "application/vnd.dataresource+json": {
                            "schema": {
                                "fields": [
                                    {
                                        "name": "__$start_lsn"
                                    },
                                    {
                                        "name": "__$operation"
                                    },
                                    {
                                        "name": "AreaNo"
                                    },
                                    {
                                        "name": "PlantNo"
                                    },
                                    {
                                        "name": "AreaName"
                                    }
                                ]
                            },
                            "data": []
                        },
                        "text/html": "<table><tr><th>__$start_lsn</th><th>__$operation</th><th>AreaNo</th><th>PlantNo</th><th>AreaName</th></tr></table>"
                    },
                    "metadata": {}
                }
            ],
            "execution_count": 62
        },
        {
            "cell_type": "markdown",
            "source": [
                "## Show the current retention policy of the CDC database"
            ],
            "metadata": {
                "azdata_cell_guid": "9dc9a059-dfa4-475f-b1c7-d8f1076622ad"
            }
        },
        {
            "cell_type": "code",
            "source": [
                "select * from cdc.cdc_jobs"
            ],
            "metadata": {
                "azdata_cell_guid": "f67115ef-1d78-4882-b4e4-8d764267a227"
            },
            "outputs": [
                {
                    "output_type": "display_data",
                    "data": {
                        "text/html": "(2 rows affected)"
                    },
                    "metadata": {}
                },
                {
                    "output_type": "display_data",
                    "data": {
                        "text/html": "Total execution time: 00:00:00.330"
                    },
                    "metadata": {}
                },
                {
                    "output_type": "execute_result",
                    "execution_count": 7,
                    "data": {
                        "application/vnd.dataresource+json": {
                            "schema": {
                                "fields": [
                                    {
                                        "name": "job_type"
                                    },
                                    {
                                        "name": "maxtrans"
                                    },
                                    {
                                        "name": "maxscans"
                                    },
                                    {
                                        "name": "continuous"
                                    },
                                    {
                                        "name": "pollinginterval"
                                    },
                                    {
                                        "name": "retention"
                                    },
                                    {
                                        "name": "threshold"
                                    }
                                ]
                            },
                            "data": [
                                {
                                    "0": "capture",
                                    "1": "500",
                                    "2": "10",
                                    "3": "0",
                                    "4": "0",
                                    "5": "0",
                                    "6": "0"
                                },
                                {
                                    "0": "cleanup",
                                    "1": "0",
                                    "2": "0",
                                    "3": "0",
                                    "4": "0",
                                    "5": "4320",
                                    "6": "5000"
                                }
                            ]
                        },
                        "text/html": "<table><tr><th>job_type</th><th>maxtrans</th><th>maxscans</th><th>continuous</th><th>pollinginterval</th><th>retention</th><th>threshold</th></tr><tr><td>capture</td><td>500</td><td>10</td><td>0</td><td>0</td><td>0</td><td>0</td></tr><tr><td>cleanup</td><td>0</td><td>0</td><td>0</td><td>0</td><td>4320</td><td>5000</td></tr></table>"
                    },
                    "metadata": {}
                }
            ],
            "execution_count": 7
        },
        {
            "cell_type": "markdown",
            "source": [
                "## Changes the retention time, in minutes, of the CDC database"
            ],
            "metadata": {
                "azdata_cell_guid": "c4f27091-0368-40b1-a09a-f69f64fd8281"
            }
        },
        {
            "cell_type": "code",
            "source": [
                "EXECUTE sys.sp_cdc_change_job\r\n",
                "   @job_type = N'cleanup',\r\n",
                "   @retention = 14400 -- the retention time in minutes\r\n",
                "   "
            ],
            "metadata": {
                "azdata_cell_guid": "70ff6478-1279-4d48-94d9-82e8c46bfae5",
                "tags": []
            },
            "outputs": [
                {
                    "output_type": "display_data",
                    "data": {
                        "text/html": "Commands completed successfully."
                    },
                    "metadata": {}
                },
                {
                    "output_type": "display_data",
                    "data": {
                        "text/html": "Total execution time: 00:00:00.365"
                    },
                    "metadata": {}
                }
            ],
            "execution_count": 6
        },
        {
            "cell_type": "markdown",
            "source": [
                "## Get the TIme From LSN\n",
                "the \\_$start\\_lsn column is in a binary data format and is the time the change was made and recorded in the CDC table. This will convert the binary data to an epoch time"
            ],
            "metadata": {
                "azdata_cell_guid": "9c43d535-e269-48e0-a967-50d2501870ed"
            }
        },
        {
            "cell_type": "code",
            "source": [
                "-- get the time from the LSN\n",
                "SELECT sys.fn_cdc_map_lsn_to_time(0x00000A1E000042400007)  "
            ],
            "metadata": {
                "azdata_cell_guid": "6a2535d9-b9bb-4fbe-b2bf-ebddfc8b05d6",
                "tags": []
            },
            "outputs": [],
            "execution_count": null
        },
        {
            "cell_type": "markdown",
            "source": [
                "## Create View for CDC table which refactors the lsn time into a datatime format"
            ],
            "metadata": {
                "azdata_cell_guid": "5ad04147-267c-403c-be0a-a75ab431b43e"
            },
            "attachments": {}
        },
        {
            "cell_type": "code",
            "source": [
                "create view [cdc].[dba_Language_CT_View] as SELECT \r\n",
                "sys.fn_cdc_map_lsn_to_time(__$start_lsn) AS 'rec_ts', * from [cdc].[dbo_Area_CT];"
            ],
            "metadata": {
                "azdata_cell_guid": "397f17b2-0293-4e95-92c8-d49aaa3b8c09",
                "tags": []
            },
            "outputs": [
                {
                    "output_type": "display_data",
                    "data": {
                        "text/html": "Commands completed successfully."
                    },
                    "metadata": {}
                },
                {
                    "output_type": "display_data",
                    "data": {
                        "text/html": "Total execution time: 00:00:00.099"
                    },
                    "metadata": {}
                }
            ],
            "execution_count": 2
        },
        {
            "cell_type": "markdown",
            "source": [
                "## Remove CDC Process from Database"
            ],
            "metadata": {
                "azdata_cell_guid": "58dcd1a4-9b16-48e3-a3ed-7b44340e2cb5"
            },
            "attachments": {}
        },
        {
            "cell_type": "code",
            "source": [
                "EXEC sys.sp_cdc_disable_db  \r\n",
                "GO  "
            ],
            "metadata": {
                "azdata_cell_guid": "115e2e3a-094b-45e4-b9a4-925950c7bd13"
            },
            "outputs": [],
            "execution_count": null
        },
        {
            "cell_type": "markdown",
            "source": [
                "## Create an Information View Table for Detailed CDC information"
            ],
            "metadata": {
                "azdata_cell_guid": "6e1a8204-aa7b-4b44-bb25-373744c91ebb"
            },
            "attachments": {}
        },
        {
            "cell_type": "code",
            "source": [
                "Create view cdc.Table_Primary_Key_View as select \r\n",
                "lower(b.name) source_table_name,\r\n",
                "c.table_catalog source_database,\r\n",
                "lower(e.column_name) primary_key,\r\n",
                "lower(c.table_catalog + '_cdc_'+ a.capture_instance + '_ct_view') cdc_view_name\r\n",
                "from cdc.change_tables a\r\n",
                "inner join sys.all_objects b on a.source_object_id = b.object_id\r\n",
                "inner join information_schema.tables c on c.table_name = b.name\r\n",
                "inner join information_schema.TABLE_CONSTRAINTS d on d.table_name = b.name \r\n",
                "and d.table_schema = c.table_schema\r\n",
                "inner join information_schema.CONSTRAINT_COLUMN_USAGE e \r\n",
                "on e.CONSTRAINT_NAME = d.CONSTRAINT_NAME and d.CONSTRAINT_TYPE = 'PRIMARY KEY'; "
            ],
            "metadata": {
                "azdata_cell_guid": "70c6a16a-db43-4f07-bc80-97c36199de9c"
            },
            "outputs": [],
            "execution_count": null
        }
    ]
}